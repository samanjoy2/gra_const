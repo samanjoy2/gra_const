{
  "cells": [
    {
      "cell_type": "code",
      "execution_count": null,
      "id": "a735f224",
      "metadata": {
        "id": "a735f224"
      },
      "outputs": [],
      "source": [
        "import numpy as np\n",
        "\n",
        "import os\n",
        "import tensorflow as tf\n",
        "from tensorflow.keras.optimizers import Adam\n",
        "import keras\n",
        "from keras.layers import Dense, Dropout, Flatten, Input\n",
        "from keras.layers import *\n",
        "from keras.models import Sequential, Model, load_model\n",
        "from tensorflow.keras import mixed_precision\n",
        "import keras.backend as K\n",
        "import pandas as pd\n",
        "from tensorflow.keras import mixed_precision\n",
        "import matplotlib.pyplot as plt\n",
        "import splitfolders\n",
        "import zipfile\n",
        "from keras.callbacks import ModelCheckpoint, EarlyStopping, CSVLogger, LearningRateScheduler\n",
        "import shutil\n",
        "import sys\n",
        "from sklearn.metrics import classification_report, accuracy_score, confusion_matrix\n",
        "from sklearn.model_selection import train_test_split\n",
        "import locale\n",
        "locale.setlocale(locale.LC_ALL, 'bn_BD.UTF-8')\n",
        "from keras.preprocessing.image import ImageDataGenerator\n",
        "from tqdm import tqdm\n",
        "import seaborn as sn"
      ]
    },
    {
      "cell_type": "code",
      "execution_count": null,
      "id": "30bb50a5",
      "metadata": {
        "id": "30bb50a5"
      },
      "outputs": [],
      "source": [
        "df = pd.read_csv('train.csv')"
      ]
    },
    {
      "cell_type": "code",
      "execution_count": null,
      "id": "c7e2da76",
      "metadata": {
        "id": "c7e2da76",
        "outputId": "fa6b1de4-ba4b-491e-b0f8-996134a5a1cc"
      },
      "outputs": [
        {
          "data": {
            "text/html": [
              "<div>\n",
              "<style scoped>\n",
              "    .dataframe tbody tr th:only-of-type {\n",
              "        vertical-align: middle;\n",
              "    }\n",
              "\n",
              "    .dataframe tbody tr th {\n",
              "        vertical-align: top;\n",
              "    }\n",
              "\n",
              "    .dataframe thead th {\n",
              "        text-align: right;\n",
              "    }\n",
              "</style>\n",
              "<table border=\"1\" class=\"dataframe\">\n",
              "  <thead>\n",
              "    <tr style=\"text-align: right;\">\n",
              "      <th></th>\n",
              "      <th>image_id</th>\n",
              "      <th>grapheme_root</th>\n",
              "      <th>vowel_diacritic</th>\n",
              "      <th>consonant_diacritic</th>\n",
              "      <th>grapheme</th>\n",
              "    </tr>\n",
              "  </thead>\n",
              "  <tbody>\n",
              "    <tr>\n",
              "      <th>0</th>\n",
              "      <td>Train_0</td>\n",
              "      <td>15</td>\n",
              "      <td>9</td>\n",
              "      <td>5</td>\n",
              "      <td>ক্ট্রো</td>\n",
              "    </tr>\n",
              "    <tr>\n",
              "      <th>1</th>\n",
              "      <td>Train_1</td>\n",
              "      <td>159</td>\n",
              "      <td>0</td>\n",
              "      <td>0</td>\n",
              "      <td>হ</td>\n",
              "    </tr>\n",
              "    <tr>\n",
              "      <th>2</th>\n",
              "      <td>Train_2</td>\n",
              "      <td>22</td>\n",
              "      <td>3</td>\n",
              "      <td>5</td>\n",
              "      <td>খ্রী</td>\n",
              "    </tr>\n",
              "    <tr>\n",
              "      <th>3</th>\n",
              "      <td>Train_3</td>\n",
              "      <td>53</td>\n",
              "      <td>2</td>\n",
              "      <td>2</td>\n",
              "      <td>র্টি</td>\n",
              "    </tr>\n",
              "    <tr>\n",
              "      <th>4</th>\n",
              "      <td>Train_4</td>\n",
              "      <td>71</td>\n",
              "      <td>9</td>\n",
              "      <td>5</td>\n",
              "      <td>থ্রো</td>\n",
              "    </tr>\n",
              "    <tr>\n",
              "      <th>...</th>\n",
              "      <td>...</td>\n",
              "      <td>...</td>\n",
              "      <td>...</td>\n",
              "      <td>...</td>\n",
              "      <td>...</td>\n",
              "    </tr>\n",
              "    <tr>\n",
              "      <th>200835</th>\n",
              "      <td>Train_200835</td>\n",
              "      <td>22</td>\n",
              "      <td>7</td>\n",
              "      <td>2</td>\n",
              "      <td>র্খে</td>\n",
              "    </tr>\n",
              "    <tr>\n",
              "      <th>200836</th>\n",
              "      <td>Train_200836</td>\n",
              "      <td>65</td>\n",
              "      <td>9</td>\n",
              "      <td>0</td>\n",
              "      <td>ত্তো</td>\n",
              "    </tr>\n",
              "    <tr>\n",
              "      <th>200837</th>\n",
              "      <td>Train_200837</td>\n",
              "      <td>2</td>\n",
              "      <td>1</td>\n",
              "      <td>4</td>\n",
              "      <td>অ্যা</td>\n",
              "    </tr>\n",
              "    <tr>\n",
              "      <th>200838</th>\n",
              "      <td>Train_200838</td>\n",
              "      <td>152</td>\n",
              "      <td>9</td>\n",
              "      <td>0</td>\n",
              "      <td>স্নো</td>\n",
              "    </tr>\n",
              "    <tr>\n",
              "      <th>200839</th>\n",
              "      <td>Train_200839</td>\n",
              "      <td>127</td>\n",
              "      <td>2</td>\n",
              "      <td>0</td>\n",
              "      <td>ল্টি</td>\n",
              "    </tr>\n",
              "  </tbody>\n",
              "</table>\n",
              "<p>200840 rows × 5 columns</p>\n",
              "</div>"
            ],
            "text/plain": [
              "            image_id  grapheme_root  vowel_diacritic  consonant_diacritic  \\\n",
              "0            Train_0             15                9                    5   \n",
              "1            Train_1            159                0                    0   \n",
              "2            Train_2             22                3                    5   \n",
              "3            Train_3             53                2                    2   \n",
              "4            Train_4             71                9                    5   \n",
              "...              ...            ...              ...                  ...   \n",
              "200835  Train_200835             22                7                    2   \n",
              "200836  Train_200836             65                9                    0   \n",
              "200837  Train_200837              2                1                    4   \n",
              "200838  Train_200838            152                9                    0   \n",
              "200839  Train_200839            127                2                    0   \n",
              "\n",
              "       grapheme  \n",
              "0        ক্ট্রো  \n",
              "1             হ  \n",
              "2          খ্রী  \n",
              "3          র্টি  \n",
              "4          থ্রো  \n",
              "...         ...  \n",
              "200835     র্খে  \n",
              "200836     ত্তো  \n",
              "200837     অ্যা  \n",
              "200838     স্নো  \n",
              "200839     ল্টি  \n",
              "\n",
              "[200840 rows x 5 columns]"
            ]
          },
          "execution_count": 3,
          "metadata": {},
          "output_type": "execute_result"
        }
      ],
      "source": [
        "df"
      ]
    },
    {
      "cell_type": "code",
      "execution_count": null,
      "id": "f021328d",
      "metadata": {
        "id": "f021328d",
        "outputId": "b183bd54-2ae3-4232-ce3c-6b0de0d5abc1"
      },
      "outputs": [
        {
          "name": "stdout",
          "output_type": "stream",
          "text": [
            "168 total_grapheme_roots\n",
            "11 total_vowel_diacritic\n",
            "7 total_consonant_diacritic\n"
          ]
        }
      ],
      "source": [
        "grapheme_roots = df['grapheme_root'].values\n",
        "n, c = np.unique(grapheme_roots, return_counts=True)\n",
        "total_grapheme_roots = len(n)\n",
        "print(total_grapheme_roots, 'total_grapheme_roots')\n",
        "\n",
        "\n",
        "vowel_diacritic = df['vowel_diacritic'].values\n",
        "n, c = np.unique(vowel_diacritic, return_counts=True)\n",
        "total_vowel_diacritic = len(n)\n",
        "print(total_vowel_diacritic, 'total_vowel_diacritic')\n",
        "\n",
        "\n",
        "consonant_diacritic = df['consonant_diacritic'].values\n",
        "n, c = np.unique(consonant_diacritic, return_counts=True)\n",
        "total_consonant_diacritic = len(n)\n",
        "print(total_consonant_diacritic, 'total_consonant_diacritic')\n"
      ]
    },
    {
      "cell_type": "code",
      "execution_count": null,
      "id": "970f88d2",
      "metadata": {
        "id": "970f88d2",
        "outputId": "d07f5d80-9503-4ddf-b759-731b6391751d"
      },
      "outputs": [
        {
          "data": {
            "text/html": [
              "<div>\n",
              "<style scoped>\n",
              "    .dataframe tbody tr th:only-of-type {\n",
              "        vertical-align: middle;\n",
              "    }\n",
              "\n",
              "    .dataframe tbody tr th {\n",
              "        vertical-align: top;\n",
              "    }\n",
              "\n",
              "    .dataframe thead th {\n",
              "        text-align: right;\n",
              "    }\n",
              "</style>\n",
              "<table border=\"1\" class=\"dataframe\">\n",
              "  <thead>\n",
              "    <tr style=\"text-align: right;\">\n",
              "      <th></th>\n",
              "      <th>image_id</th>\n",
              "      <th>grapheme_root</th>\n",
              "      <th>vowel_diacritic</th>\n",
              "      <th>consonant_diacritic</th>\n",
              "      <th>grapheme</th>\n",
              "    </tr>\n",
              "  </thead>\n",
              "  <tbody>\n",
              "    <tr>\n",
              "      <th>0</th>\n",
              "      <td>Train_0</td>\n",
              "      <td>15</td>\n",
              "      <td>9</td>\n",
              "      <td>5</td>\n",
              "      <td>ক্ট্রো</td>\n",
              "    </tr>\n",
              "    <tr>\n",
              "      <th>1</th>\n",
              "      <td>Train_1</td>\n",
              "      <td>159</td>\n",
              "      <td>0</td>\n",
              "      <td>0</td>\n",
              "      <td>হ</td>\n",
              "    </tr>\n",
              "    <tr>\n",
              "      <th>2</th>\n",
              "      <td>Train_2</td>\n",
              "      <td>22</td>\n",
              "      <td>3</td>\n",
              "      <td>5</td>\n",
              "      <td>খ্রী</td>\n",
              "    </tr>\n",
              "    <tr>\n",
              "      <th>3</th>\n",
              "      <td>Train_3</td>\n",
              "      <td>53</td>\n",
              "      <td>2</td>\n",
              "      <td>2</td>\n",
              "      <td>র্টি</td>\n",
              "    </tr>\n",
              "    <tr>\n",
              "      <th>4</th>\n",
              "      <td>Train_4</td>\n",
              "      <td>71</td>\n",
              "      <td>9</td>\n",
              "      <td>5</td>\n",
              "      <td>থ্রো</td>\n",
              "    </tr>\n",
              "    <tr>\n",
              "      <th>...</th>\n",
              "      <td>...</td>\n",
              "      <td>...</td>\n",
              "      <td>...</td>\n",
              "      <td>...</td>\n",
              "      <td>...</td>\n",
              "    </tr>\n",
              "    <tr>\n",
              "      <th>200835</th>\n",
              "      <td>Train_200835</td>\n",
              "      <td>22</td>\n",
              "      <td>7</td>\n",
              "      <td>2</td>\n",
              "      <td>র্খে</td>\n",
              "    </tr>\n",
              "    <tr>\n",
              "      <th>200836</th>\n",
              "      <td>Train_200836</td>\n",
              "      <td>65</td>\n",
              "      <td>9</td>\n",
              "      <td>0</td>\n",
              "      <td>ত্তো</td>\n",
              "    </tr>\n",
              "    <tr>\n",
              "      <th>200837</th>\n",
              "      <td>Train_200837</td>\n",
              "      <td>2</td>\n",
              "      <td>1</td>\n",
              "      <td>4</td>\n",
              "      <td>অ্যা</td>\n",
              "    </tr>\n",
              "    <tr>\n",
              "      <th>200838</th>\n",
              "      <td>Train_200838</td>\n",
              "      <td>152</td>\n",
              "      <td>9</td>\n",
              "      <td>0</td>\n",
              "      <td>স্নো</td>\n",
              "    </tr>\n",
              "    <tr>\n",
              "      <th>200839</th>\n",
              "      <td>Train_200839</td>\n",
              "      <td>127</td>\n",
              "      <td>2</td>\n",
              "      <td>0</td>\n",
              "      <td>ল্টি</td>\n",
              "    </tr>\n",
              "  </tbody>\n",
              "</table>\n",
              "<p>200840 rows × 5 columns</p>\n",
              "</div>"
            ],
            "text/plain": [
              "            image_id  grapheme_root  vowel_diacritic  consonant_diacritic  \\\n",
              "0            Train_0             15                9                    5   \n",
              "1            Train_1            159                0                    0   \n",
              "2            Train_2             22                3                    5   \n",
              "3            Train_3             53                2                    2   \n",
              "4            Train_4             71                9                    5   \n",
              "...              ...            ...              ...                  ...   \n",
              "200835  Train_200835             22                7                    2   \n",
              "200836  Train_200836             65                9                    0   \n",
              "200837  Train_200837              2                1                    4   \n",
              "200838  Train_200838            152                9                    0   \n",
              "200839  Train_200839            127                2                    0   \n",
              "\n",
              "       grapheme  \n",
              "0        ক্ট্রো  \n",
              "1             হ  \n",
              "2          খ্রী  \n",
              "3          র্টি  \n",
              "4          থ্রো  \n",
              "...         ...  \n",
              "200835     র্খে  \n",
              "200836     ত্তো  \n",
              "200837     অ্যা  \n",
              "200838     স্নো  \n",
              "200839     ল্টি  \n",
              "\n",
              "[200840 rows x 5 columns]"
            ]
          },
          "execution_count": 5,
          "metadata": {},
          "output_type": "execute_result"
        }
      ],
      "source": [
        "df"
      ]
    },
    {
      "cell_type": "code",
      "execution_count": null,
      "id": "34cc95fe",
      "metadata": {
        "id": "34cc95fe",
        "outputId": "b19a6630-bead-4e93-a921-68785b27ac5e"
      },
      "outputs": [
        {
          "data": {
            "text/plain": [
              "0              Train_0\n",
              "1              Train_1\n",
              "2              Train_2\n",
              "3              Train_3\n",
              "4              Train_4\n",
              "              ...     \n",
              "200835    Train_200835\n",
              "200836    Train_200836\n",
              "200837    Train_200837\n",
              "200838    Train_200838\n",
              "200839    Train_200839\n",
              "Name: image_id, Length: 200840, dtype: object"
            ]
          },
          "execution_count": 6,
          "metadata": {},
          "output_type": "execute_result"
        }
      ],
      "source": [
        "X = df['image_id']\n",
        "X"
      ]
    },
    {
      "cell_type": "code",
      "execution_count": null,
      "id": "377013d2",
      "metadata": {
        "id": "377013d2",
        "outputId": "988ab5ce-a054-44f2-f1a4-e9108f75a875"
      },
      "outputs": [
        {
          "data": {
            "text/html": [
              "<div>\n",
              "<style scoped>\n",
              "    .dataframe tbody tr th:only-of-type {\n",
              "        vertical-align: middle;\n",
              "    }\n",
              "\n",
              "    .dataframe tbody tr th {\n",
              "        vertical-align: top;\n",
              "    }\n",
              "\n",
              "    .dataframe thead th {\n",
              "        text-align: right;\n",
              "    }\n",
              "</style>\n",
              "<table border=\"1\" class=\"dataframe\">\n",
              "  <thead>\n",
              "    <tr style=\"text-align: right;\">\n",
              "      <th></th>\n",
              "      <th>grapheme_root</th>\n",
              "      <th>vowel_diacritic</th>\n",
              "      <th>consonant_diacritic</th>\n",
              "      <th>grapheme</th>\n",
              "    </tr>\n",
              "  </thead>\n",
              "  <tbody>\n",
              "    <tr>\n",
              "      <th>0</th>\n",
              "      <td>15</td>\n",
              "      <td>9</td>\n",
              "      <td>5</td>\n",
              "      <td>ক্ট্রো</td>\n",
              "    </tr>\n",
              "    <tr>\n",
              "      <th>1</th>\n",
              "      <td>159</td>\n",
              "      <td>0</td>\n",
              "      <td>0</td>\n",
              "      <td>হ</td>\n",
              "    </tr>\n",
              "    <tr>\n",
              "      <th>2</th>\n",
              "      <td>22</td>\n",
              "      <td>3</td>\n",
              "      <td>5</td>\n",
              "      <td>খ্রী</td>\n",
              "    </tr>\n",
              "    <tr>\n",
              "      <th>3</th>\n",
              "      <td>53</td>\n",
              "      <td>2</td>\n",
              "      <td>2</td>\n",
              "      <td>র্টি</td>\n",
              "    </tr>\n",
              "    <tr>\n",
              "      <th>4</th>\n",
              "      <td>71</td>\n",
              "      <td>9</td>\n",
              "      <td>5</td>\n",
              "      <td>থ্রো</td>\n",
              "    </tr>\n",
              "    <tr>\n",
              "      <th>...</th>\n",
              "      <td>...</td>\n",
              "      <td>...</td>\n",
              "      <td>...</td>\n",
              "      <td>...</td>\n",
              "    </tr>\n",
              "    <tr>\n",
              "      <th>200835</th>\n",
              "      <td>22</td>\n",
              "      <td>7</td>\n",
              "      <td>2</td>\n",
              "      <td>র্খে</td>\n",
              "    </tr>\n",
              "    <tr>\n",
              "      <th>200836</th>\n",
              "      <td>65</td>\n",
              "      <td>9</td>\n",
              "      <td>0</td>\n",
              "      <td>ত্তো</td>\n",
              "    </tr>\n",
              "    <tr>\n",
              "      <th>200837</th>\n",
              "      <td>2</td>\n",
              "      <td>1</td>\n",
              "      <td>4</td>\n",
              "      <td>অ্যা</td>\n",
              "    </tr>\n",
              "    <tr>\n",
              "      <th>200838</th>\n",
              "      <td>152</td>\n",
              "      <td>9</td>\n",
              "      <td>0</td>\n",
              "      <td>স্নো</td>\n",
              "    </tr>\n",
              "    <tr>\n",
              "      <th>200839</th>\n",
              "      <td>127</td>\n",
              "      <td>2</td>\n",
              "      <td>0</td>\n",
              "      <td>ল্টি</td>\n",
              "    </tr>\n",
              "  </tbody>\n",
              "</table>\n",
              "<p>200840 rows × 4 columns</p>\n",
              "</div>"
            ],
            "text/plain": [
              "        grapheme_root  vowel_diacritic  consonant_diacritic grapheme\n",
              "0                  15                9                    5   ক্ট্রো\n",
              "1                 159                0                    0        হ\n",
              "2                  22                3                    5     খ্রী\n",
              "3                  53                2                    2     র্টি\n",
              "4                  71                9                    5     থ্রো\n",
              "...               ...              ...                  ...      ...\n",
              "200835             22                7                    2     র্খে\n",
              "200836             65                9                    0     ত্তো\n",
              "200837              2                1                    4     অ্যা\n",
              "200838            152                9                    0     স্নো\n",
              "200839            127                2                    0     ল্টি\n",
              "\n",
              "[200840 rows x 4 columns]"
            ]
          },
          "execution_count": 7,
          "metadata": {},
          "output_type": "execute_result"
        }
      ],
      "source": [
        "y = df.drop(['image_id'], axis=1)\n",
        "y"
      ]
    },
    {
      "cell_type": "code",
      "execution_count": null,
      "id": "af2b9441",
      "metadata": {
        "id": "af2b9441"
      },
      "outputs": [],
      "source": [
        "X_train, X_test, y_train, y_test = train_test_split(X, y, test_size=0.1, random_state=42, stratify=y)\n",
        "X_train, X_val, y_train, y_val = train_test_split(X_train, y_train, test_size=0.2, random_state=42, stratify=y_train)"
      ]
    },
    {
      "cell_type": "code",
      "execution_count": null,
      "id": "edb39b8b",
      "metadata": {
        "id": "edb39b8b"
      },
      "outputs": [],
      "source": [
        "def augment_image(img):\n",
        "    data_augmentation = ImageDataGenerator(\n",
        "        rotation_range=15,\n",
        "        width_shift_range=0,\n",
        "        height_shift_range=0,\n",
        "        zoom_range=0,\n",
        "        fill_mode='constant', cval=0,\n",
        "        horizontal_flip=False,\n",
        "        vertical_flip=False\n",
        "    )\n",
        "    img = data_augmentation.random_transform(img)\n",
        "    return img"
      ]
    },
    {
      "cell_type": "code",
      "execution_count": null,
      "id": "16482dca",
      "metadata": {
        "id": "16482dca"
      },
      "outputs": [],
      "source": [
        "batch_size = 128\n",
        "\n",
        "def loader(img_list, img_labels,augment=True):\n",
        "    L = len(img_list)\n",
        "    while True:\n",
        "        batch_start = 0\n",
        "        batch_end = batch_size\n",
        "        while batch_start < L:\n",
        "            limit = min(batch_end, L)\n",
        "            z = np.zeros((len(img_list[batch_start:limit]), 200, 200, 1))\n",
        "            for i, f in enumerate(img_list[batch_start:limit]):\n",
        "                img = tf.keras.utils.load_img('./images/'+f+'.jpg', color_mode='grayscale',target_size=(200, 200))\n",
        "                img = tf.keras.utils.img_to_array(img)/255.\n",
        "                if augment:\n",
        "                    img = augment_image(img)\n",
        "                z[i, :, :, :] = img\n",
        "            X = z\n",
        "            labels = img_labels[batch_start:limit]\n",
        "\n",
        "            Y = []\n",
        "\n",
        "            grapheme_roots = []\n",
        "            vowel_diacritics = []\n",
        "            consonant_diacritics = []\n",
        "            for label in labels:\n",
        "                grapheme_roots.append(label[0])\n",
        "                vowel_diacritics.append(label[1])\n",
        "                consonant_diacritics.append(label[2])\n",
        "\n",
        "            grapheme_roots = np.array(grapheme_roots)\n",
        "            vowel_diacritics = np.array(vowel_diacritics)\n",
        "            consonant_diacritics = np.array(consonant_diacritics)\n",
        "\n",
        "            yield (X,{'grapheme_root': grapheme_roots, 'vowel_diacritic': vowel_diacritics, 'consonant_diacritic': consonant_diacritics})\n",
        "            batch_start += batch_size\n",
        "            batch_end += batch_size"
      ]
    },
    {
      "cell_type": "code",
      "execution_count": null,
      "id": "b6bd4bb5",
      "metadata": {
        "id": "b6bd4bb5"
      },
      "outputs": [],
      "source": [
        "train_generator = loader(X_train.values, y_train.values)\n",
        "val_generator = loader(X_val.values, y_val.values)"
      ]
    },
    {
      "cell_type": "code",
      "execution_count": null,
      "id": "0a0822b8",
      "metadata": {
        "scrolled": true,
        "id": "0a0822b8",
        "outputId": "b43b52b8-8ad2-42d0-a1ce-513f6f97b670"
      },
      "outputs": [
        {
          "name": "stdout",
          "output_type": "stream",
          "text": [
            "Model: \"model\"\n",
            "__________________________________________________________________________________________________\n",
            " Layer (type)                   Output Shape         Param #     Connected to                     \n",
            "==================================================================================================\n",
            " input_1 (InputLayer)           [(None, 200, 200, 1  0           []                               \n",
            "                                )]                                                                \n",
            "                                                                                                  \n",
            " conv2d (Conv2D)                (None, 200, 200, 16  160         ['input_1[0][0]']                \n",
            "                                )                                                                 \n",
            "                                                                                                  \n",
            " max_pooling2d (MaxPooling2D)   (None, 100, 100, 16  0           ['conv2d[0][0]']                 \n",
            "                                )                                                                 \n",
            "                                                                                                  \n",
            " conv2d_1 (Conv2D)              (None, 100, 100, 32  4640        ['max_pooling2d[0][0]']          \n",
            "                                )                                                                 \n",
            "                                                                                                  \n",
            " max_pooling2d_1 (MaxPooling2D)  (None, 50, 50, 32)  0           ['conv2d_1[0][0]']               \n",
            "                                                                                                  \n",
            " conv2d_2 (Conv2D)              (None, 50, 50, 64)   18496       ['max_pooling2d_1[0][0]']        \n",
            "                                                                                                  \n",
            " max_pooling2d_2 (MaxPooling2D)  (None, 25, 25, 64)  0           ['conv2d_2[0][0]']               \n",
            "                                                                                                  \n",
            " conv2d_3 (Conv2D)              (None, 25, 25, 128)  73856       ['max_pooling2d_2[0][0]']        \n",
            "                                                                                                  \n",
            " max_pooling2d_3 (MaxPooling2D)  (None, 12, 12, 128)  0          ['conv2d_3[0][0]']               \n",
            "                                                                                                  \n",
            " conv2d_4 (Conv2D)              (None, 12, 12, 256)  295168      ['max_pooling2d_3[0][0]']        \n",
            "                                                                                                  \n",
            " max_pooling2d_4 (MaxPooling2D)  (None, 6, 6, 256)   0           ['conv2d_4[0][0]']               \n",
            "                                                                                                  \n",
            " flatten (Flatten)              (None, 9216)         0           ['max_pooling2d_4[0][0]']        \n",
            "                                                                                                  \n",
            " dense (Dense)                  (None, 512)          4719104     ['flatten[0][0]']                \n",
            "                                                                                                  \n",
            " dense_2 (Dense)                (None, 512)          4719104     ['flatten[0][0]']                \n",
            "                                                                                                  \n",
            " dense_4 (Dense)                (None, 512)          4719104     ['flatten[0][0]']                \n",
            "                                                                                                  \n",
            " dropout (Dropout)              (None, 512)          0           ['dense[0][0]']                  \n",
            "                                                                                                  \n",
            " dropout_1 (Dropout)            (None, 512)          0           ['dense_2[0][0]']                \n",
            "                                                                                                  \n",
            " dropout_2 (Dropout)            (None, 512)          0           ['dense_4[0][0]']                \n",
            "                                                                                                  \n",
            " dense_1 (Dense)                (None, 256)          131328      ['dropout[0][0]']                \n",
            "                                                                                                  \n",
            " dense_3 (Dense)                (None, 256)          131328      ['dropout_1[0][0]']              \n",
            "                                                                                                  \n",
            " dense_5 (Dense)                (None, 256)          131328      ['dropout_2[0][0]']              \n",
            "                                                                                                  \n",
            " grapheme_root (Dense)          (None, 168)          43176       ['dense_1[0][0]']                \n",
            "                                                                                                  \n",
            " vowel_diacritic (Dense)        (None, 11)           2827        ['dense_3[0][0]']                \n",
            "                                                                                                  \n",
            " consonant_diacritic (Dense)    (None, 7)            1799        ['dense_5[0][0]']                \n",
            "                                                                                                  \n",
            "==================================================================================================\n",
            "Total params: 14,991,418\n",
            "Trainable params: 14,991,418\n",
            "Non-trainable params: 0\n",
            "__________________________________________________________________________________________________\n"
          ]
        }
      ],
      "source": [
        "def simple_model():\n",
        "\n",
        "    f = 16\n",
        "    x = Input(shape=(200,200,1,))\n",
        "    init=x\n",
        "\n",
        "    conv = Conv2D(f, 3, strides=1, padding='same', activation='relu')(init)\n",
        "    conv = MaxPooling2D(2)(conv)\n",
        "\n",
        "    conv = Conv2D(f*2, 3, strides=1, padding='same', activation='relu')(conv)\n",
        "    conv = MaxPooling2D(2)(conv)\n",
        "\n",
        "    conv = Conv2D(f*4, 3, strides=1, padding='same', activation='relu')(conv)\n",
        "    conv = MaxPooling2D(2)(conv)\n",
        "\n",
        "    conv = Conv2D(f*8, 3, strides=1, padding='same', activation='relu')(conv)\n",
        "    conv = MaxPooling2D(2)(conv)\n",
        "\n",
        "\n",
        "    conv = Conv2D(f*16, 3, strides=1, padding='same', activation='relu')(conv)\n",
        "    conv = MaxPooling2D(2)(conv)\n",
        "\n",
        "    f = Flatten()(conv)\n",
        "\n",
        "    d_grapheme_root = Dense(512, activation='relu')(f)\n",
        "    d_grapheme_root = Dropout(0.5)(d_grapheme_root)\n",
        "    d_grapheme_root = Dense(256, activation='relu')(d_grapheme_root)\n",
        "\n",
        "    d_vowel_diacritic = Dense(512, activation='relu')(f)\n",
        "    d_vowel_diacritic = Dropout(0.5)(d_vowel_diacritic)\n",
        "    d_vowel_diacritic = Dense(256, activation='relu')(d_vowel_diacritic)\n",
        "\n",
        "    d_consonant_diacritic = Dense(512, activation='relu')(f)\n",
        "    d_consonant_diacritic = Dropout(0.5)(d_consonant_diacritic)\n",
        "    d_consonant_diacritic = Dense(256, activation='relu')(d_consonant_diacritic)\n",
        "\n",
        "\n",
        "    grapheme_root = Dense(total_grapheme_roots, activation='softmax', name='grapheme_root')(d_grapheme_root)\n",
        "    vowel_diacritic = Dense(total_vowel_diacritic, activation='softmax', name='vowel_diacritic')(d_vowel_diacritic)\n",
        "    consonant_diacritic = Dense(total_consonant_diacritic, activation='softmax', name='consonant_diacritic')(d_consonant_diacritic)\n",
        "\n",
        "\n",
        "    model = Model(inputs=x, outputs=[grapheme_root, vowel_diacritic, consonant_diacritic])\n",
        "\n",
        "    return model\n",
        "\n",
        "model = simple_model()\n",
        "model.summary()"
      ]
    },
    {
      "cell_type": "code",
      "execution_count": null,
      "id": "c246441a",
      "metadata": {
        "scrolled": true,
        "id": "c246441a",
        "outputId": "4954da57-997e-45d3-ef72-8466a8e179d2"
      },
      "outputs": [
        {
          "name": "stdout",
          "output_type": "stream",
          "text": [
            "\n",
            "Epoch 1: LearningRateScheduler setting learning rate to 0.001.\n",
            "Epoch 1/30\n",
            "1129/1129 [==============================] - ETA: 0s - loss: 4.8209 - grapheme_root_loss: 3.4475 - vowel_diacritic_loss: 0.7882 - consonant_diacritic_loss: 0.5852 - grapheme_root_accuracy: 0.1990 - vowel_diacritic_accuracy: 0.7219 - consonant_diacritic_accuracy: 0.8050\n",
            "Epoch 1: val_loss improved from inf to 1.99805, saving model to .\\test.hdf5\n",
            "1129/1129 [==============================] - 2710s 2s/step - loss: 4.8209 - grapheme_root_loss: 3.4475 - vowel_diacritic_loss: 0.7882 - consonant_diacritic_loss: 0.5852 - grapheme_root_accuracy: 0.1990 - vowel_diacritic_accuracy: 0.7219 - consonant_diacritic_accuracy: 0.8050 - val_loss: 1.9980 - val_grapheme_root_loss: 1.5020 - val_vowel_diacritic_loss: 0.2491 - val_consonant_diacritic_loss: 0.2470 - val_grapheme_root_accuracy: 0.5778 - val_vowel_diacritic_accuracy: 0.9169 - val_consonant_diacritic_accuracy: 0.9161 - lr: 0.0010\n",
            "\n",
            "Epoch 2: LearningRateScheduler setting learning rate to 0.001.\n",
            "Epoch 2/30\n",
            "1129/1129 [==============================] - ETA: 0s - loss: 1.9033 - grapheme_root_loss: 1.4294 - vowel_diacritic_loss: 0.2510 - consonant_diacritic_loss: 0.2229 - grapheme_root_accuracy: 0.5914 - vowel_diacritic_accuracy: 0.9192 - consonant_diacritic_accuracy: 0.9265\n",
            "Epoch 2: val_loss improved from 1.99805 to 1.23373, saving model to .\\test.hdf5\n",
            "1129/1129 [==============================] - 2747s 2s/step - loss: 1.9033 - grapheme_root_loss: 1.4294 - vowel_diacritic_loss: 0.2510 - consonant_diacritic_loss: 0.2229 - grapheme_root_accuracy: 0.5914 - vowel_diacritic_accuracy: 0.9192 - consonant_diacritic_accuracy: 0.9265 - val_loss: 1.2337 - val_grapheme_root_loss: 0.8734 - val_vowel_diacritic_loss: 0.1771 - val_consonant_diacritic_loss: 0.1832 - val_grapheme_root_accuracy: 0.7495 - val_vowel_diacritic_accuracy: 0.9428 - val_consonant_diacritic_accuracy: 0.9388 - lr: 0.0010\n",
            "\n",
            "Epoch 3: LearningRateScheduler setting learning rate to 0.001.\n",
            "Epoch 3/30\n",
            "1129/1129 [==============================] - ETA: 0s - loss: 1.3013 - grapheme_root_loss: 0.9602 - vowel_diacritic_loss: 0.1800 - consonant_diacritic_loss: 0.1611 - grapheme_root_accuracy: 0.7171 - vowel_diacritic_accuracy: 0.9424 - consonant_diacritic_accuracy: 0.9473\n",
            "Epoch 3: val_loss improved from 1.23373 to 1.00693, saving model to .\\test.hdf5\n",
            "1129/1129 [==============================] - 2748s 2s/step - loss: 1.3013 - grapheme_root_loss: 0.9602 - vowel_diacritic_loss: 0.1800 - consonant_diacritic_loss: 0.1611 - grapheme_root_accuracy: 0.7171 - vowel_diacritic_accuracy: 0.9424 - consonant_diacritic_accuracy: 0.9473 - val_loss: 1.0069 - val_grapheme_root_loss: 0.6920 - val_vowel_diacritic_loss: 0.1580 - val_consonant_diacritic_loss: 0.1569 - val_grapheme_root_accuracy: 0.7965 - val_vowel_diacritic_accuracy: 0.9515 - val_consonant_diacritic_accuracy: 0.9510 - lr: 0.0010\n",
            "\n",
            "Epoch 4: LearningRateScheduler setting learning rate to 0.001.\n",
            "Epoch 4/30\n",
            "1129/1129 [==============================] - ETA: 0s - loss: 1.0315 - grapheme_root_loss: 0.7627 - vowel_diacritic_loss: 0.1417 - consonant_diacritic_loss: 0.1271 - grapheme_root_accuracy: 0.7718 - vowel_diacritic_accuracy: 0.9543 - consonant_diacritic_accuracy: 0.9588\n",
            "Epoch 4: val_loss improved from 1.00693 to 0.91410, saving model to .\\test.hdf5\n",
            "1129/1129 [==============================] - 2734s 2s/step - loss: 1.0315 - grapheme_root_loss: 0.7627 - vowel_diacritic_loss: 0.1417 - consonant_diacritic_loss: 0.1271 - grapheme_root_accuracy: 0.7718 - vowel_diacritic_accuracy: 0.9543 - consonant_diacritic_accuracy: 0.9588 - val_loss: 0.9141 - val_grapheme_root_loss: 0.6098 - val_vowel_diacritic_loss: 0.1500 - val_consonant_diacritic_loss: 0.1543 - val_grapheme_root_accuracy: 0.8233 - val_vowel_diacritic_accuracy: 0.9551 - val_consonant_diacritic_accuracy: 0.9533 - lr: 0.0010\n",
            "\n",
            "Epoch 5: LearningRateScheduler setting learning rate to 0.001.\n",
            "Epoch 5/30\n",
            "1129/1129 [==============================] - ETA: 0s - loss: 0.8580 - grapheme_root_loss: 0.6386 - vowel_diacritic_loss: 0.1157 - consonant_diacritic_loss: 0.1037 - grapheme_root_accuracy: 0.8065 - vowel_diacritic_accuracy: 0.9626 - consonant_diacritic_accuracy: 0.9654\n",
            "Epoch 5: val_loss improved from 0.91410 to 0.86333, saving model to .\\test.hdf5\n",
            "1129/1129 [==============================] - 2744s 2s/step - loss: 0.8580 - grapheme_root_loss: 0.6386 - vowel_diacritic_loss: 0.1157 - consonant_diacritic_loss: 0.1037 - grapheme_root_accuracy: 0.8065 - vowel_diacritic_accuracy: 0.9626 - consonant_diacritic_accuracy: 0.9654 - val_loss: 0.8633 - val_grapheme_root_loss: 0.5632 - val_vowel_diacritic_loss: 0.1566 - val_consonant_diacritic_loss: 0.1435 - val_grapheme_root_accuracy: 0.8383 - val_vowel_diacritic_accuracy: 0.9551 - val_consonant_diacritic_accuracy: 0.9570 - lr: 0.0010\n",
            "\n",
            "Epoch 6: LearningRateScheduler setting learning rate to 0.001.\n",
            "Epoch 6/30\n",
            "1129/1129 [==============================] - ETA: 0s - loss: 0.7432 - grapheme_root_loss: 0.5567 - vowel_diacritic_loss: 0.1005 - consonant_diacritic_loss: 0.0860 - grapheme_root_accuracy: 0.8294 - vowel_diacritic_accuracy: 0.9676 - consonant_diacritic_accuracy: 0.9716\n",
            "Epoch 6: val_loss did not improve from 0.86333\n",
            "1129/1129 [==============================] - 2711s 2s/step - loss: 0.7432 - grapheme_root_loss: 0.5567 - vowel_diacritic_loss: 0.1005 - consonant_diacritic_loss: 0.0860 - grapheme_root_accuracy: 0.8294 - vowel_diacritic_accuracy: 0.9676 - consonant_diacritic_accuracy: 0.9716 - val_loss: 0.8886 - val_grapheme_root_loss: 0.5642 - val_vowel_diacritic_loss: 0.1604 - val_consonant_diacritic_loss: 0.1640 - val_grapheme_root_accuracy: 0.8394 - val_vowel_diacritic_accuracy: 0.9575 - val_consonant_diacritic_accuracy: 0.9567 - lr: 0.0010\n",
            "\n",
            "Epoch 7: LearningRateScheduler setting learning rate to 0.001.\n",
            "Epoch 7/30\n",
            "1129/1129 [==============================] - ETA: 0s - loss: 0.6494 - grapheme_root_loss: 0.4913 - vowel_diacritic_loss: 0.0859 - consonant_diacritic_loss: 0.0723 - grapheme_root_accuracy: 0.8482 - vowel_diacritic_accuracy: 0.9719 - consonant_diacritic_accuracy: 0.9762\n",
            "Epoch 7: val_loss did not improve from 0.86333\n",
            "1129/1129 [==============================] - 2742s 2s/step - loss: 0.6494 - grapheme_root_loss: 0.4913 - vowel_diacritic_loss: 0.0859 - consonant_diacritic_loss: 0.0723 - grapheme_root_accuracy: 0.8482 - vowel_diacritic_accuracy: 0.9719 - consonant_diacritic_accuracy: 0.9762 - val_loss: 0.8770 - val_grapheme_root_loss: 0.5661 - val_vowel_diacritic_loss: 0.1577 - val_consonant_diacritic_loss: 0.1531 - val_grapheme_root_accuracy: 0.8405 - val_vowel_diacritic_accuracy: 0.9580 - val_consonant_diacritic_accuracy: 0.9598 - lr: 0.0010\n",
            "\n",
            "Epoch 8: LearningRateScheduler setting learning rate to 0.001.\n",
            "Epoch 8/30\n",
            "1129/1129 [==============================] - ETA: 0s - loss: 0.5718 - grapheme_root_loss: 0.4340 - vowel_diacritic_loss: 0.0756 - consonant_diacritic_loss: 0.0622 - grapheme_root_accuracy: 0.8643 - vowel_diacritic_accuracy: 0.9752 - consonant_diacritic_accuracy: 0.9792\n",
            "Epoch 8: val_loss improved from 0.86333 to 0.84506, saving model to .\\test.hdf5\n",
            "1129/1129 [==============================] - 2730s 2s/step - loss: 0.5718 - grapheme_root_loss: 0.4340 - vowel_diacritic_loss: 0.0756 - consonant_diacritic_loss: 0.0622 - grapheme_root_accuracy: 0.8643 - vowel_diacritic_accuracy: 0.9752 - consonant_diacritic_accuracy: 0.9792 - val_loss: 0.8451 - val_grapheme_root_loss: 0.5267 - val_vowel_diacritic_loss: 0.1602 - val_consonant_diacritic_loss: 0.1582 - val_grapheme_root_accuracy: 0.8525 - val_vowel_diacritic_accuracy: 0.9581 - val_consonant_diacritic_accuracy: 0.9587 - lr: 0.0010\n",
            "\n",
            "Epoch 9: LearningRateScheduler setting learning rate to 0.001.\n",
            "Epoch 9/30\n",
            "1129/1129 [==============================] - ETA: 0s - loss: 0.5229 - grapheme_root_loss: 0.4004 - vowel_diacritic_loss: 0.0676 - consonant_diacritic_loss: 0.0549 - grapheme_root_accuracy: 0.8730 - vowel_diacritic_accuracy: 0.9776 - consonant_diacritic_accuracy: 0.9812\n",
            "Epoch 9: val_loss did not improve from 0.84506\n",
            "1129/1129 [==============================] - 2754s 2s/step - loss: 0.5229 - grapheme_root_loss: 0.4004 - vowel_diacritic_loss: 0.0676 - consonant_diacritic_loss: 0.0549 - grapheme_root_accuracy: 0.8730 - vowel_diacritic_accuracy: 0.9776 - consonant_diacritic_accuracy: 0.9812 - val_loss: 0.8542 - val_grapheme_root_loss: 0.5385 - val_vowel_diacritic_loss: 0.1600 - val_consonant_diacritic_loss: 0.1557 - val_grapheme_root_accuracy: 0.8505 - val_vowel_diacritic_accuracy: 0.9581 - val_consonant_diacritic_accuracy: 0.9601 - lr: 0.0010\n"
          ]
        },
        {
          "name": "stdout",
          "output_type": "stream",
          "text": [
            "\n",
            "Epoch 10: LearningRateScheduler setting learning rate to 0.001.\n",
            "Epoch 10/30\n",
            "1129/1129 [==============================] - ETA: 0s - loss: 0.4788 - grapheme_root_loss: 0.3674 - vowel_diacritic_loss: 0.0618 - consonant_diacritic_loss: 0.0497 - grapheme_root_accuracy: 0.8834 - vowel_diacritic_accuracy: 0.9793 - consonant_diacritic_accuracy: 0.9832\n",
            "Epoch 10: val_loss did not improve from 0.84506\n",
            "1129/1129 [==============================] - 2735s 2s/step - loss: 0.4788 - grapheme_root_loss: 0.3674 - vowel_diacritic_loss: 0.0618 - consonant_diacritic_loss: 0.0497 - grapheme_root_accuracy: 0.8834 - vowel_diacritic_accuracy: 0.9793 - consonant_diacritic_accuracy: 0.9832 - val_loss: 0.8646 - val_grapheme_root_loss: 0.5557 - val_vowel_diacritic_loss: 0.1511 - val_consonant_diacritic_loss: 0.1578 - val_grapheme_root_accuracy: 0.8493 - val_vowel_diacritic_accuracy: 0.9619 - val_consonant_diacritic_accuracy: 0.9604 - lr: 0.0010\n",
            "\n",
            "Epoch 11: LearningRateScheduler setting learning rate to 0.0001.\n",
            "Epoch 11/30\n",
            "1129/1129 [==============================] - ETA: 0s - loss: 0.3142 - grapheme_root_loss: 0.2455 - vowel_diacritic_loss: 0.0383 - consonant_diacritic_loss: 0.0303 - grapheme_root_accuracy: 0.9202 - vowel_diacritic_accuracy: 0.9873 - consonant_diacritic_accuracy: 0.9901\n",
            "Epoch 11: val_loss improved from 0.84506 to 0.83465, saving model to .\\test.hdf5\n",
            "1129/1129 [==============================] - 2752s 2s/step - loss: 0.3142 - grapheme_root_loss: 0.2455 - vowel_diacritic_loss: 0.0383 - consonant_diacritic_loss: 0.0303 - grapheme_root_accuracy: 0.9202 - vowel_diacritic_accuracy: 0.9873 - consonant_diacritic_accuracy: 0.9901 - val_loss: 0.8346 - val_grapheme_root_loss: 0.4995 - val_vowel_diacritic_loss: 0.1613 - val_consonant_diacritic_loss: 0.1738 - val_grapheme_root_accuracy: 0.8727 - val_vowel_diacritic_accuracy: 0.9656 - val_consonant_diacritic_accuracy: 0.9627 - lr: 1.0000e-04\n",
            "\n",
            "Epoch 12: LearningRateScheduler setting learning rate to 0.0001.\n",
            "Epoch 12/30\n",
            "1129/1129 [==============================] - ETA: 0s - loss: 0.2650 - grapheme_root_loss: 0.2122 - vowel_diacritic_loss: 0.0297 - consonant_diacritic_loss: 0.0231 - grapheme_root_accuracy: 0.9308 - vowel_diacritic_accuracy: 0.9904 - consonant_diacritic_accuracy: 0.9921\n",
            "Epoch 12: val_loss did not improve from 0.83465\n",
            "1129/1129 [==============================] - 2799s 2s/step - loss: 0.2650 - grapheme_root_loss: 0.2122 - vowel_diacritic_loss: 0.0297 - consonant_diacritic_loss: 0.0231 - grapheme_root_accuracy: 0.9308 - vowel_diacritic_accuracy: 0.9904 - consonant_diacritic_accuracy: 0.9921 - val_loss: 0.8538 - val_grapheme_root_loss: 0.5025 - val_vowel_diacritic_loss: 0.1645 - val_consonant_diacritic_loss: 0.1867 - val_grapheme_root_accuracy: 0.8748 - val_vowel_diacritic_accuracy: 0.9657 - val_consonant_diacritic_accuracy: 0.9623 - lr: 1.0000e-04\n",
            "\n",
            "Epoch 13: LearningRateScheduler setting learning rate to 0.0001.\n",
            "Epoch 13/30\n",
            "1129/1129 [==============================] - ETA: 0s - loss: 0.2430 - grapheme_root_loss: 0.1978 - vowel_diacritic_loss: 0.0253 - consonant_diacritic_loss: 0.0199 - grapheme_root_accuracy: 0.9346 - vowel_diacritic_accuracy: 0.9917 - consonant_diacritic_accuracy: 0.9936\n",
            "Epoch 13: val_loss did not improve from 0.83465\n",
            "1129/1129 [==============================] - 2748s 2s/step - loss: 0.2430 - grapheme_root_loss: 0.1978 - vowel_diacritic_loss: 0.0253 - consonant_diacritic_loss: 0.0199 - grapheme_root_accuracy: 0.9346 - vowel_diacritic_accuracy: 0.9917 - consonant_diacritic_accuracy: 0.9936 - val_loss: 0.8676 - val_grapheme_root_loss: 0.5041 - val_vowel_diacritic_loss: 0.1726 - val_consonant_diacritic_loss: 0.1909 - val_grapheme_root_accuracy: 0.8763 - val_vowel_diacritic_accuracy: 0.9660 - val_consonant_diacritic_accuracy: 0.9624 - lr: 1.0000e-04\n",
            "\n",
            "Epoch 14: LearningRateScheduler setting learning rate to 0.0001.\n",
            "Epoch 14/30\n",
            "1129/1129 [==============================] - ETA: 0s - loss: 0.2225 - grapheme_root_loss: 0.1826 - vowel_diacritic_loss: 0.0227 - consonant_diacritic_loss: 0.0172 - grapheme_root_accuracy: 0.9405 - vowel_diacritic_accuracy: 0.9926 - consonant_diacritic_accuracy: 0.9941\n",
            "Epoch 14: val_loss did not improve from 0.83465\n",
            "1129/1129 [==============================] - 2702s 2s/step - loss: 0.2225 - grapheme_root_loss: 0.1826 - vowel_diacritic_loss: 0.0227 - consonant_diacritic_loss: 0.0172 - grapheme_root_accuracy: 0.9405 - vowel_diacritic_accuracy: 0.9926 - consonant_diacritic_accuracy: 0.9941 - val_loss: 0.8758 - val_grapheme_root_loss: 0.5041 - val_vowel_diacritic_loss: 0.1768 - val_consonant_diacritic_loss: 0.1949 - val_grapheme_root_accuracy: 0.8771 - val_vowel_diacritic_accuracy: 0.9663 - val_consonant_diacritic_accuracy: 0.9628 - lr: 1.0000e-04\n",
            "\n",
            "Epoch 15: LearningRateScheduler setting learning rate to 0.0001.\n",
            "Epoch 15/30\n",
            "1129/1129 [==============================] - ETA: 0s - loss: 0.2089 - grapheme_root_loss: 0.1734 - vowel_diacritic_loss: 0.0205 - consonant_diacritic_loss: 0.0150 - grapheme_root_accuracy: 0.9426 - vowel_diacritic_accuracy: 0.9933 - consonant_diacritic_accuracy: 0.9951\n",
            "Epoch 15: val_loss did not improve from 0.83465\n",
            "1129/1129 [==============================] - 2747s 2s/step - loss: 0.2089 - grapheme_root_loss: 0.1734 - vowel_diacritic_loss: 0.0205 - consonant_diacritic_loss: 0.0150 - grapheme_root_accuracy: 0.9426 - vowel_diacritic_accuracy: 0.9933 - consonant_diacritic_accuracy: 0.9951 - val_loss: 0.8961 - val_grapheme_root_loss: 0.5091 - val_vowel_diacritic_loss: 0.1837 - val_consonant_diacritic_loss: 0.2033 - val_grapheme_root_accuracy: 0.8768 - val_vowel_diacritic_accuracy: 0.9653 - val_consonant_diacritic_accuracy: 0.9627 - lr: 1.0000e-04\n",
            "\n",
            "Epoch 16: LearningRateScheduler setting learning rate to 0.0001.\n",
            "Epoch 16/30\n",
            "1129/1129 [==============================] - ETA: 0s - loss: 0.1952 - grapheme_root_loss: 0.1633 - vowel_diacritic_loss: 0.0186 - consonant_diacritic_loss: 0.0134 - grapheme_root_accuracy: 0.9458 - vowel_diacritic_accuracy: 0.9937 - consonant_diacritic_accuracy: 0.9957\n",
            "Epoch 16: val_loss did not improve from 0.83465\n",
            "1129/1129 [==============================] - 2727s 2s/step - loss: 0.1952 - grapheme_root_loss: 0.1633 - vowel_diacritic_loss: 0.0186 - consonant_diacritic_loss: 0.0134 - grapheme_root_accuracy: 0.9458 - vowel_diacritic_accuracy: 0.9937 - consonant_diacritic_accuracy: 0.9957 - val_loss: 0.9195 - val_grapheme_root_loss: 0.5180 - val_vowel_diacritic_loss: 0.1863 - val_consonant_diacritic_loss: 0.2152 - val_grapheme_root_accuracy: 0.8769 - val_vowel_diacritic_accuracy: 0.9659 - val_consonant_diacritic_accuracy: 0.9625 - lr: 1.0000e-04\n",
            "\n",
            "Epoch 17: LearningRateScheduler setting learning rate to 0.0001.\n",
            "Epoch 17/30\n",
            "1129/1129 [==============================] - ETA: 0s - loss: 0.1861 - grapheme_root_loss: 0.1564 - vowel_diacritic_loss: 0.0171 - consonant_diacritic_loss: 0.0127 - grapheme_root_accuracy: 0.9480 - vowel_diacritic_accuracy: 0.9944 - consonant_diacritic_accuracy: 0.9956\n",
            "Epoch 17: val_loss did not improve from 0.83465\n",
            "1129/1129 [==============================] - 2733s 2s/step - loss: 0.1861 - grapheme_root_loss: 0.1564 - vowel_diacritic_loss: 0.0171 - consonant_diacritic_loss: 0.0127 - grapheme_root_accuracy: 0.9480 - vowel_diacritic_accuracy: 0.9944 - consonant_diacritic_accuracy: 0.9956 - val_loss: 0.9382 - val_grapheme_root_loss: 0.5261 - val_vowel_diacritic_loss: 0.1931 - val_consonant_diacritic_loss: 0.2189 - val_grapheme_root_accuracy: 0.8779 - val_vowel_diacritic_accuracy: 0.9663 - val_consonant_diacritic_accuracy: 0.9631 - lr: 1.0000e-04\n",
            "\n",
            "Epoch 18: LearningRateScheduler setting learning rate to 0.0001.\n",
            "Epoch 18/30\n",
            "1129/1129 [==============================] - ETA: 0s - loss: 0.1745 - grapheme_root_loss: 0.1470 - vowel_diacritic_loss: 0.0162 - consonant_diacritic_loss: 0.0113 - grapheme_root_accuracy: 0.9508 - vowel_diacritic_accuracy: 0.9946 - consonant_diacritic_accuracy: 0.9963\n",
            "Epoch 18: val_loss did not improve from 0.83465\n",
            "1129/1129 [==============================] - 2723s 2s/step - loss: 0.1745 - grapheme_root_loss: 0.1470 - vowel_diacritic_loss: 0.0162 - consonant_diacritic_loss: 0.0113 - grapheme_root_accuracy: 0.9508 - vowel_diacritic_accuracy: 0.9946 - consonant_diacritic_accuracy: 0.9963 - val_loss: 0.9475 - val_grapheme_root_loss: 0.5277 - val_vowel_diacritic_loss: 0.1948 - val_consonant_diacritic_loss: 0.2251 - val_grapheme_root_accuracy: 0.8779 - val_vowel_diacritic_accuracy: 0.9666 - val_consonant_diacritic_accuracy: 0.9625 - lr: 1.0000e-04\n"
          ]
        },
        {
          "name": "stdout",
          "output_type": "stream",
          "text": [
            "\n",
            "Epoch 19: LearningRateScheduler setting learning rate to 0.0001.\n",
            "Epoch 19/30\n",
            "1129/1129 [==============================] - ETA: 0s - loss: 0.1640 - grapheme_root_loss: 0.1394 - vowel_diacritic_loss: 0.0144 - consonant_diacritic_loss: 0.0103 - grapheme_root_accuracy: 0.9528 - vowel_diacritic_accuracy: 0.9954 - consonant_diacritic_accuracy: 0.9964\n",
            "Epoch 19: val_loss did not improve from 0.83465\n",
            "1129/1129 [==============================] - 2737s 2s/step - loss: 0.1640 - grapheme_root_loss: 0.1394 - vowel_diacritic_loss: 0.0144 - consonant_diacritic_loss: 0.0103 - grapheme_root_accuracy: 0.9528 - vowel_diacritic_accuracy: 0.9954 - consonant_diacritic_accuracy: 0.9964 - val_loss: 0.9733 - val_grapheme_root_loss: 0.5402 - val_vowel_diacritic_loss: 0.1991 - val_consonant_diacritic_loss: 0.2340 - val_grapheme_root_accuracy: 0.8778 - val_vowel_diacritic_accuracy: 0.9664 - val_consonant_diacritic_accuracy: 0.9631 - lr: 1.0000e-04\n",
            "\n",
            "Epoch 20: LearningRateScheduler setting learning rate to 0.0001.\n",
            "Epoch 20/30\n",
            "1129/1129 [==============================] - ETA: 0s - loss: 0.1582 - grapheme_root_loss: 0.1347 - vowel_diacritic_loss: 0.0135 - consonant_diacritic_loss: 0.0100 - grapheme_root_accuracy: 0.9548 - vowel_diacritic_accuracy: 0.9953 - consonant_diacritic_accuracy: 0.9966\n",
            "Epoch 20: val_loss did not improve from 0.83465\n",
            "1129/1129 [==============================] - 2722s 2s/step - loss: 0.1582 - grapheme_root_loss: 0.1347 - vowel_diacritic_loss: 0.0135 - consonant_diacritic_loss: 0.0100 - grapheme_root_accuracy: 0.9548 - vowel_diacritic_accuracy: 0.9953 - consonant_diacritic_accuracy: 0.9966 - val_loss: 0.9804 - val_grapheme_root_loss: 0.5407 - val_vowel_diacritic_loss: 0.2080 - val_consonant_diacritic_loss: 0.2317 - val_grapheme_root_accuracy: 0.8776 - val_vowel_diacritic_accuracy: 0.9657 - val_consonant_diacritic_accuracy: 0.9634 - lr: 1.0000e-04\n",
            "\n",
            "Epoch 21: LearningRateScheduler setting learning rate to 0.0001.\n",
            "Epoch 21/30\n",
            "1129/1129 [==============================] - ETA: 0s - loss: 0.1516 - grapheme_root_loss: 0.1293 - vowel_diacritic_loss: 0.0123 - consonant_diacritic_loss: 0.0099 - grapheme_root_accuracy: 0.9568 - vowel_diacritic_accuracy: 0.9959 - consonant_diacritic_accuracy: 0.9966\n",
            "Epoch 21: val_loss did not improve from 0.83465\n",
            "1129/1129 [==============================] - 2740s 2s/step - loss: 0.1516 - grapheme_root_loss: 0.1293 - vowel_diacritic_loss: 0.0123 - consonant_diacritic_loss: 0.0099 - grapheme_root_accuracy: 0.9568 - vowel_diacritic_accuracy: 0.9959 - consonant_diacritic_accuracy: 0.9966 - val_loss: 1.0076 - val_grapheme_root_loss: 0.5430 - val_vowel_diacritic_loss: 0.2127 - val_consonant_diacritic_loss: 0.2519 - val_grapheme_root_accuracy: 0.8791 - val_vowel_diacritic_accuracy: 0.9655 - val_consonant_diacritic_accuracy: 0.9617 - lr: 1.0000e-04\n",
            "\n",
            "Epoch 22: LearningRateScheduler setting learning rate to 0.0001.\n",
            "Epoch 22/30\n",
            "1129/1129 [==============================] - ETA: 0s - loss: 0.1434 - grapheme_root_loss: 0.1236 - vowel_diacritic_loss: 0.0115 - consonant_diacritic_loss: 0.0083 - grapheme_root_accuracy: 0.9584 - vowel_diacritic_accuracy: 0.9960 - consonant_diacritic_accuracy: 0.9971\n",
            "Epoch 22: val_loss did not improve from 0.83465\n",
            "1129/1129 [==============================] - 2735s 2s/step - loss: 0.1434 - grapheme_root_loss: 0.1236 - vowel_diacritic_loss: 0.0115 - consonant_diacritic_loss: 0.0083 - grapheme_root_accuracy: 0.9584 - vowel_diacritic_accuracy: 0.9960 - consonant_diacritic_accuracy: 0.9971 - val_loss: 1.0126 - val_grapheme_root_loss: 0.5522 - val_vowel_diacritic_loss: 0.2139 - val_consonant_diacritic_loss: 0.2465 - val_grapheme_root_accuracy: 0.8784 - val_vowel_diacritic_accuracy: 0.9668 - val_consonant_diacritic_accuracy: 0.9624 - lr: 1.0000e-04\n",
            "\n",
            "Epoch 23: LearningRateScheduler setting learning rate to 0.0001.\n",
            "Epoch 23/30\n",
            "1129/1129 [==============================] - ETA: 0s - loss: 0.1388 - grapheme_root_loss: 0.1193 - vowel_diacritic_loss: 0.0114 - consonant_diacritic_loss: 0.0081 - grapheme_root_accuracy: 0.9593 - vowel_diacritic_accuracy: 0.9962 - consonant_diacritic_accuracy: 0.9973\n",
            "Epoch 23: val_loss did not improve from 0.83465\n",
            "1129/1129 [==============================] - 2744s 2s/step - loss: 0.1388 - grapheme_root_loss: 0.1193 - vowel_diacritic_loss: 0.0114 - consonant_diacritic_loss: 0.0081 - grapheme_root_accuracy: 0.9593 - vowel_diacritic_accuracy: 0.9962 - consonant_diacritic_accuracy: 0.9973 - val_loss: 1.0400 - val_grapheme_root_loss: 0.5577 - val_vowel_diacritic_loss: 0.2287 - val_consonant_diacritic_loss: 0.2537 - val_grapheme_root_accuracy: 0.8787 - val_vowel_diacritic_accuracy: 0.9654 - val_consonant_diacritic_accuracy: 0.9627 - lr: 1.0000e-04\n",
            "\n",
            "Epoch 24: LearningRateScheduler setting learning rate to 0.0001.\n",
            "Epoch 24/30\n",
            "1129/1129 [==============================] - ETA: 0s - loss: 0.1335 - grapheme_root_loss: 0.1152 - vowel_diacritic_loss: 0.0106 - consonant_diacritic_loss: 0.0077 - grapheme_root_accuracy: 0.9605 - vowel_diacritic_accuracy: 0.9965 - consonant_diacritic_accuracy: 0.9973\n",
            "Epoch 24: val_loss did not improve from 0.83465\n",
            "1129/1129 [==============================] - 2731s 2s/step - loss: 0.1335 - grapheme_root_loss: 0.1152 - vowel_diacritic_loss: 0.0106 - consonant_diacritic_loss: 0.0077 - grapheme_root_accuracy: 0.9605 - vowel_diacritic_accuracy: 0.9965 - consonant_diacritic_accuracy: 0.9973 - val_loss: 1.0495 - val_grapheme_root_loss: 0.5599 - val_vowel_diacritic_loss: 0.2277 - val_consonant_diacritic_loss: 0.2619 - val_grapheme_root_accuracy: 0.8787 - val_vowel_diacritic_accuracy: 0.9660 - val_consonant_diacritic_accuracy: 0.9625 - lr: 1.0000e-04\n",
            "\n",
            "Epoch 25: LearningRateScheduler setting learning rate to 0.0001.\n",
            "Epoch 25/30\n",
            "1129/1129 [==============================] - ETA: 0s - loss: 0.1289 - grapheme_root_loss: 0.1111 - vowel_diacritic_loss: 0.0100 - consonant_diacritic_loss: 0.0077 - grapheme_root_accuracy: 0.9620 - vowel_diacritic_accuracy: 0.9966 - consonant_diacritic_accuracy: 0.9974\n",
            "Epoch 25: val_loss did not improve from 0.83465\n",
            "1129/1129 [==============================] - 2752s 2s/step - loss: 0.1289 - grapheme_root_loss: 0.1111 - vowel_diacritic_loss: 0.0100 - consonant_diacritic_loss: 0.0077 - grapheme_root_accuracy: 0.9620 - vowel_diacritic_accuracy: 0.9966 - consonant_diacritic_accuracy: 0.9974 - val_loss: 1.0617 - val_grapheme_root_loss: 0.5753 - val_vowel_diacritic_loss: 0.2259 - val_consonant_diacritic_loss: 0.2605 - val_grapheme_root_accuracy: 0.8787 - val_vowel_diacritic_accuracy: 0.9663 - val_consonant_diacritic_accuracy: 0.9626 - lr: 1.0000e-04\n",
            "\n",
            "Epoch 26: LearningRateScheduler setting learning rate to 0.0001.\n",
            "Epoch 26/30\n",
            "1129/1129 [==============================] - ETA: 0s - loss: 0.1243 - grapheme_root_loss: 0.1082 - vowel_diacritic_loss: 0.0093 - consonant_diacritic_loss: 0.0068 - grapheme_root_accuracy: 0.9636 - vowel_diacritic_accuracy: 0.9967 - consonant_diacritic_accuracy: 0.9978\n",
            "Epoch 26: val_loss did not improve from 0.83465\n",
            "1129/1129 [==============================] - 2738s 2s/step - loss: 0.1243 - grapheme_root_loss: 0.1082 - vowel_diacritic_loss: 0.0093 - consonant_diacritic_loss: 0.0068 - grapheme_root_accuracy: 0.9636 - vowel_diacritic_accuracy: 0.9967 - consonant_diacritic_accuracy: 0.9978 - val_loss: 1.0814 - val_grapheme_root_loss: 0.5765 - val_vowel_diacritic_loss: 0.2331 - val_consonant_diacritic_loss: 0.2718 - val_grapheme_root_accuracy: 0.8778 - val_vowel_diacritic_accuracy: 0.9659 - val_consonant_diacritic_accuracy: 0.9629 - lr: 1.0000e-04\n",
            "\n",
            "Epoch 27: LearningRateScheduler setting learning rate to 0.0001.\n",
            "Epoch 27/30\n",
            "1129/1129 [==============================] - ETA: 0s - loss: 0.1198 - grapheme_root_loss: 0.1046 - vowel_diacritic_loss: 0.0085 - consonant_diacritic_loss: 0.0067 - grapheme_root_accuracy: 0.9643 - vowel_diacritic_accuracy: 0.9971 - consonant_diacritic_accuracy: 0.9978\n",
            "Epoch 27: val_loss did not improve from 0.83465\n",
            "1129/1129 [==============================] - 2754s 2s/step - loss: 0.1198 - grapheme_root_loss: 0.1046 - vowel_diacritic_loss: 0.0085 - consonant_diacritic_loss: 0.0067 - grapheme_root_accuracy: 0.9643 - vowel_diacritic_accuracy: 0.9971 - consonant_diacritic_accuracy: 0.9978 - val_loss: 1.1081 - val_grapheme_root_loss: 0.5872 - val_vowel_diacritic_loss: 0.2445 - val_consonant_diacritic_loss: 0.2765 - val_grapheme_root_accuracy: 0.8779 - val_vowel_diacritic_accuracy: 0.9663 - val_consonant_diacritic_accuracy: 0.9624 - lr: 1.0000e-04\n"
          ]
        },
        {
          "name": "stdout",
          "output_type": "stream",
          "text": [
            "\n",
            "Epoch 28: LearningRateScheduler setting learning rate to 0.0001.\n",
            "Epoch 28/30\n",
            "1129/1129 [==============================] - ETA: 0s - loss: 0.1160 - grapheme_root_loss: 0.1016 - vowel_diacritic_loss: 0.0083 - consonant_diacritic_loss: 0.0061 - grapheme_root_accuracy: 0.9654 - vowel_diacritic_accuracy: 0.9970 - consonant_diacritic_accuracy: 0.9979\n",
            "Epoch 28: val_loss did not improve from 0.83465\n",
            "1129/1129 [==============================] - 2727s 2s/step - loss: 0.1160 - grapheme_root_loss: 0.1016 - vowel_diacritic_loss: 0.0083 - consonant_diacritic_loss: 0.0061 - grapheme_root_accuracy: 0.9654 - vowel_diacritic_accuracy: 0.9970 - consonant_diacritic_accuracy: 0.9979 - val_loss: 1.0977 - val_grapheme_root_loss: 0.5809 - val_vowel_diacritic_loss: 0.2449 - val_consonant_diacritic_loss: 0.2718 - val_grapheme_root_accuracy: 0.8782 - val_vowel_diacritic_accuracy: 0.9660 - val_consonant_diacritic_accuracy: 0.9630 - lr: 1.0000e-04\n",
            "\n",
            "Epoch 29: LearningRateScheduler setting learning rate to 0.0001.\n",
            "Epoch 29/30\n",
            "1129/1129 [==============================] - ETA: 0s - loss: 0.1107 - grapheme_root_loss: 0.0964 - vowel_diacritic_loss: 0.0084 - consonant_diacritic_loss: 0.0059 - grapheme_root_accuracy: 0.9672 - vowel_diacritic_accuracy: 0.9973 - consonant_diacritic_accuracy: 0.9981\n",
            "Epoch 29: val_loss did not improve from 0.83465\n",
            "1129/1129 [==============================] - 2745s 2s/step - loss: 0.1107 - grapheme_root_loss: 0.0964 - vowel_diacritic_loss: 0.0084 - consonant_diacritic_loss: 0.0059 - grapheme_root_accuracy: 0.9672 - vowel_diacritic_accuracy: 0.9973 - consonant_diacritic_accuracy: 0.9981 - val_loss: 1.1267 - val_grapheme_root_loss: 0.5979 - val_vowel_diacritic_loss: 0.2448 - val_consonant_diacritic_loss: 0.2840 - val_grapheme_root_accuracy: 0.8763 - val_vowel_diacritic_accuracy: 0.9662 - val_consonant_diacritic_accuracy: 0.9629 - lr: 1.0000e-04\n",
            "\n",
            "Epoch 30: LearningRateScheduler setting learning rate to 0.0001.\n",
            "Epoch 30/30\n",
            "1129/1129 [==============================] - ETA: 0s - loss: 0.1067 - grapheme_root_loss: 0.0930 - vowel_diacritic_loss: 0.0078 - consonant_diacritic_loss: 0.0060 - grapheme_root_accuracy: 0.9682 - vowel_diacritic_accuracy: 0.9974 - consonant_diacritic_accuracy: 0.9980\n",
            "Epoch 30: val_loss did not improve from 0.83465\n",
            "1129/1129 [==============================] - 2727s 2s/step - loss: 0.1067 - grapheme_root_loss: 0.0930 - vowel_diacritic_loss: 0.0078 - consonant_diacritic_loss: 0.0060 - grapheme_root_accuracy: 0.9682 - vowel_diacritic_accuracy: 0.9974 - consonant_diacritic_accuracy: 0.9980 - val_loss: 1.1672 - val_grapheme_root_loss: 0.6069 - val_vowel_diacritic_loss: 0.2561 - val_consonant_diacritic_loss: 0.3042 - val_grapheme_root_accuracy: 0.8776 - val_vowel_diacritic_accuracy: 0.9656 - val_consonant_diacritic_accuracy: 0.9619 - lr: 1.0000e-04\n"
          ]
        }
      ],
      "source": [
        "media_start = './'\n",
        "optimizer = Adam(0.001)\n",
        "\n",
        "model_path = media_start+\"test.hdf5\"\n",
        "\n",
        "checkpoint = ModelCheckpoint(model_path, save_freq=\"epoch\",save_best_only=True,\n",
        "    save_weights_only=False, monitor='val_loss', verbose=1)\n",
        "\n",
        "csv_logger = CSVLogger(media_start+\"log.csv\")\n",
        "\n",
        "ce = tf.keras.losses.SparseCategoricalCrossentropy(\n",
        "    from_logits=False, reduction=\"auto\", name=\"sparse_categorical_crossentropy\"\n",
        ")\n",
        "\n",
        "model.compile(optimizer = optimizer, loss=ce, metrics = ['accuracy'])\n",
        "\n",
        "train_steps = len(X_train)//batch_size\n",
        "val_steps = len(X_val)//batch_size\n",
        "\n",
        "def scheduler(epoch):\n",
        "    initial = 0.001\n",
        "    lr = initial\n",
        "    if epoch >= 10:\n",
        "        lr = 0.0001\n",
        "    return lr\n",
        "\n",
        "\n",
        "scheduler_callback = LearningRateScheduler(scheduler, verbose=1)\n",
        "\n",
        "history = model.fit(train_generator,\n",
        "        steps_per_epoch=train_steps,\n",
        "        epochs=30,\n",
        "        verbose=1,\n",
        "        validation_data=val_generator,\n",
        "        validation_steps=val_steps,\n",
        "        callbacks=[checkpoint, csv_logger, scheduler_callback]\n",
        ")"
      ]
    },
    {
      "cell_type": "code",
      "execution_count": null,
      "id": "5481d517",
      "metadata": {
        "id": "5481d517",
        "outputId": "062a8e1f-9b8c-4f75-acc6-81441afbe686"
      },
      "outputs": [
        {
          "name": "stderr",
          "output_type": "stream",
          "text": [
            "WARNING:absl:Found untraced functions such as _jit_compiled_convolution_op, _jit_compiled_convolution_op, _jit_compiled_convolution_op, _jit_compiled_convolution_op, _jit_compiled_convolution_op while saving (showing 5 of 6). These functions will not be directly callable after loading.\n"
          ]
        },
        {
          "name": "stdout",
          "output_type": "stream",
          "text": [
            "INFO:tensorflow:Assets written to: saved_model\\assets\n"
          ]
        },
        {
          "name": "stderr",
          "output_type": "stream",
          "text": [
            "INFO:tensorflow:Assets written to: saved_model\\assets\n"
          ]
        }
      ],
      "source": [
        "model.save('saved_model')"
      ]
    },
    {
      "cell_type": "code",
      "execution_count": null,
      "id": "24d0d410",
      "metadata": {
        "id": "24d0d410"
      },
      "outputs": [],
      "source": [
        "# # FOR RECONSTRUCTION PURPOSE\n",
        "# df_gr = pd.read_csv('train.csv')\n",
        "# df_gr = df_gr.drop_duplicates(subset=['grapheme'])\n",
        "# dv = df_gr.values\n",
        "# grapheme_roots = {}\n",
        "# _grapheme_roots = []\n",
        "\n",
        "# vowel_diacritics = []\n",
        "# _vowel_diacritics = []\n",
        "\n",
        "# consonant_diacritics = []\n",
        "# _consonant_diacritics = []\n",
        "# for v in dv:\n",
        "#     if v[1] != 0 and v[2] == 0 and v[3] == 0 and v[-1] not in _grapheme_roots:\n",
        "#         _grapheme_roots.append(v[-1])\n",
        "#         grapheme_roots[v[1]] =v[-1]\n"
      ]
    },
    {
      "cell_type": "code",
      "execution_count": null,
      "id": "2e9c9b9d",
      "metadata": {
        "id": "2e9c9b9d"
      },
      "outputs": [],
      "source": []
    },
    {
      "cell_type": "code",
      "execution_count": null,
      "id": "aaf7cd95",
      "metadata": {
        "id": "aaf7cd95"
      },
      "outputs": [],
      "source": [
        "# FOR RECONSTRUCTION PURPOSE\n",
        "df_gr = pd.read_csv('train.csv')\n",
        "df_gr = df_gr.drop_duplicates(subset=['grapheme'])\n",
        "dv = df_gr.values\n",
        "grapheme_roots = []\n",
        "_grapheme_roots = []\n",
        "\n",
        "for v in dv:\n",
        "    if v[1] != 0 and v[2] == 0 and v[3] == 0 and v[-1] not in _grapheme_roots:\n",
        "        _grapheme_roots.append(v[-1])\n",
        "        grapheme_roots.append({'numeric': v[1], 'value': v[-1]})\n",
        "\n",
        "vowel_diacritics = {}\n",
        "vowel_diacritics[0] = ''\n",
        "vowel_diacritics[1] = 'া'\n",
        "vowel_diacritics[2] = 'ি'\n",
        "vowel_diacritics[3] = 'ী'\n",
        "vowel_diacritics[4] = 'ু'\n",
        "vowel_diacritics[5] = 'ূ'\n",
        "vowel_diacritics[6] = 'ৃ'\n",
        "vowel_diacritics[7] = 'ে'\n",
        "vowel_diacritics[8] = 'ৈ'\n",
        "vowel_diacritics[9] = 'ো'\n",
        "vowel_diacritics[10] = 'ৌ'\n",
        "\n",
        "\n",
        "consonant_diacritics = {}\n",
        "consonant_diacritics[0] = ''\n",
        "consonant_diacritics[1] = 'ঁ'\n",
        "consonant_diacritics[2] = '\\u09b0\\u09cd'\n",
        "consonant_diacritics[3] = '্য' #//ref + ja fala\n",
        "consonant_diacritics[4] = '্য'\n",
        "consonant_diacritics[5] = '্র'\n",
        "consonant_diacritics[6] = '্র্য'\n",
        "consonant_diacritics[7] = '্র' #ref + ra fala\n",
        "\n",
        "\n",
        "def get_grapheme_root(numeric):\n",
        "    for item in grapheme_roots:\n",
        "        if item['numeric'] == numeric:\n",
        "            return item['value']\n",
        "    return ''\n",
        "\n",
        "def get_vowel_diacritic(numeric):\n",
        "    global vowel_diacritics\n",
        "    return vowel_diacritics[numeric]\n",
        "\n",
        "def get_consonant_diacritic(numeric):\n",
        "    global consonant_diacritics\n",
        "    return consonant_diacritics[numeric]\n",
        "\n",
        "consonant_middle=[5,4,6]\n",
        "consonant_after=[1]\n",
        "consonant_before=[2]\n",
        "consonant_combined=[3,7]\n",
        "def get_grapheme(gr,vd,cd):\n",
        "    consonant_middle=[5,4,6]\n",
        "    consonant_after=[1]\n",
        "    consonant_before=[2]\n",
        "    consonant_combined=[3,7]\n",
        "\n",
        "    if cd==0:\n",
        "        return get_grapheme_root(gr)+get_vowel_diacritic(vd)\n",
        "    elif cd in consonant_middle:\n",
        "        return get_grapheme_root(gr)+get_consonant_diacritic(cd)+get_vowel_diacritic(vd)\n",
        "    elif cd in consonant_before: #ref\n",
        "        return get_consonant_diacritic(cd)+get_grapheme_root(gr)+get_vowel_diacritic(vd)\n",
        "    elif cd in consonant_combined :#ref+ ja fala\n",
        "\n",
        "        return '\\u09b0\\u09cd'+get_grapheme_root(gr)+get_consonant_diacritic(cd)+get_vowel_diacritic(vd)\n",
        "\n",
        "    elif cd in consonant_after:\n",
        "        return get_grapheme_root(gr)+get_vowel_diacritic(vd)+get_consonant_diacritic(cd)"
      ]
    },
    {
      "cell_type": "code",
      "execution_count": null,
      "id": "6e159bb0",
      "metadata": {
        "scrolled": false,
        "id": "6e159bb0",
        "outputId": "5f3a75a1-d3e8-4ba3-f812-5a0dc7e8a53c"
      },
      "outputs": [
        {
          "name": "stderr",
          "output_type": "stream",
          "text": [
            "20084it [2:44:42,  2.03it/s]\n"
          ]
        }
      ],
      "source": [
        "model.load_weights('saved_model')\n",
        "\n",
        "y_true_grapheme_root = []\n",
        "y_true_vowel_diacritic = []\n",
        "y_true_consonant_diacritic = []\n",
        "\n",
        "y_pred_grapheme_root = []\n",
        "y_pred_vowel_diacritic = []\n",
        "y_pred_consonant_diacritic = []\n",
        "\n",
        "for i, f in tqdm(enumerate(X_test)):\n",
        "    img = tf.keras.utils.load_img('./images/'+f+'.jpg', color_mode='grayscale',target_size=(200, 200))\n",
        "    img = tf.keras.utils.img_to_array(img)/255.\n",
        "    img = np.expand_dims(img, axis=0)\n",
        "    pr = model.predict(img, verbose=0)\n",
        "\n",
        "    pred_grapheme_root = np.argmax(pr[0], axis=-1)[0]\n",
        "    pred_vowel_diacritic = np.argmax(pr[1], axis=-1)[0]\n",
        "    pred_consonant_diacritic = np.argmax(pr[2], axis=-1)[0]\n",
        "\n",
        "\n",
        "    true_grapheme_root = y_test['grapheme_root'].iloc[i]\n",
        "    true_vowel_diacritic = y_test['vowel_diacritic'].iloc[i]\n",
        "    true_consonant_diacritic = y_test['consonant_diacritic'].iloc[i]\n",
        "\n",
        "\n",
        "    y_pred_grapheme_root.append(pred_grapheme_root)\n",
        "    y_pred_vowel_diacritic.append(pred_vowel_diacritic)\n",
        "    y_pred_consonant_diacritic.append(np.argmax(pr[2], axis=-1)[0])\n",
        "\n",
        "    y_true_grapheme_root.append(y_test['grapheme_root'].iloc[i])\n",
        "    y_true_vowel_diacritic.append(y_test['vowel_diacritic'].iloc[i])\n",
        "    y_true_consonant_diacritic.append(y_test['consonant_diacritic'].iloc[i])\n",
        ""
      ]
    },
    {
      "cell_type": "code",
      "execution_count": null,
      "id": "68f15acc",
      "metadata": {
        "id": "68f15acc",
        "outputId": "5c0d3843-0aa1-45e4-9b76-3324b4b9f383"
      },
      "outputs": [
        {
          "name": "stdout",
          "output_type": "stream",
          "text": [
            "              precision    recall  f1-score   support\n",
            "\n",
            "           0    0.77778   0.93333   0.84848        15\n",
            "           1    0.81250   0.86667   0.83871        15\n",
            "           2    0.93750   0.88235   0.90909        34\n",
            "           3    0.80556   0.90625   0.85294        32\n",
            "           4    0.89189   1.00000   0.94286        33\n",
            "           5    0.82353   0.82353   0.82353        17\n",
            "           6    0.84848   0.90323   0.87500        31\n",
            "           7    0.85714   0.80000   0.82759        15\n",
            "           8    0.82353   0.87500   0.84848        16\n",
            "           9    0.82979   0.86667   0.84783        45\n",
            "          10    0.80000   0.80000   0.80000        15\n",
            "          11    0.71429   1.00000   0.83333        15\n",
            "          12    0.93333   0.93333   0.93333        15\n",
            "          13    0.91544   0.92052   0.91797       541\n",
            "          14    0.93671   0.93671   0.93671        79\n",
            "          15    0.94545   0.96296   0.95413       108\n",
            "          16    0.92045   0.88043   0.90000        92\n",
            "          17    0.94521   0.90789   0.92617        76\n",
            "          18    0.81395   0.85366   0.83333       164\n",
            "          19    0.88889   0.85714   0.87273        28\n",
            "          20    0.68293   0.84848   0.75676        33\n",
            "          21    0.92222   0.87368   0.89730        95\n",
            "          22    0.88448   0.83333   0.85814       294\n",
            "          23    0.88433   0.91860   0.90114       516\n",
            "          24    0.96774   0.90909   0.93750        33\n",
            "          25    0.85981   0.82143   0.84018       112\n",
            "          26    0.83333   0.88235   0.85714        17\n",
            "          27    0.72727   0.80000   0.76190        30\n",
            "          28    0.88732   0.81818   0.85135        77\n",
            "          29    0.86842   0.84000   0.85397       275\n",
            "          30    0.97561   0.90909   0.94118        44\n",
            "          31    0.79762   0.87013   0.83230        77\n",
            "          32    0.78899   0.75439   0.77130       114\n",
            "          33    1.00000   1.00000   1.00000        14\n",
            "          34    0.88889   0.85714   0.87273        28\n",
            "          35    0.80000   0.83333   0.81633        48\n",
            "          36    0.86022   0.78431   0.82051       102\n",
            "          37    0.65517   0.67857   0.66667        28\n",
            "          38    0.90855   0.91940   0.91395       335\n",
            "          39    0.86765   0.95161   0.90769        62\n",
            "          40    0.85000   0.89474   0.87179        76\n",
            "          41    0.90000   0.90000   0.90000        30\n",
            "          42    0.93478   0.87755   0.90526       196\n",
            "          43    0.89415   0.88187   0.88797       364\n",
            "          44    0.84483   0.92453   0.88288       106\n",
            "          45    0.88889   0.57143   0.69565        14\n",
            "          46    0.80000   0.77193   0.78571        57\n",
            "          47    0.90244   0.82222   0.86047        45\n",
            "          48    0.87838   0.94203   0.90909       138\n",
            "          49    0.88571   0.96875   0.92537        32\n",
            "          50    0.86301   0.86301   0.86301        73\n",
            "          51    0.93750   0.93750   0.93750        32\n",
            "          52    0.86316   0.87234   0.86772        94\n",
            "          53    0.90411   0.89674   0.90041       368\n",
            "          54    0.86667   0.66102   0.75000        59\n",
            "          55    0.82320   0.89222   0.85632       167\n",
            "          56    0.79783   0.82156   0.80952       269\n",
            "          57    0.86364   0.90476   0.88372        63\n",
            "          58    0.81560   0.89844   0.85502       128\n",
            "          59    0.82231   0.85043   0.83613       234\n",
            "          60    0.66667   0.60465   0.63415        43\n",
            "          61    0.70732   0.50000   0.58586        58\n",
            "          62    0.73171   0.68966   0.71006        87\n",
            "          63    0.63158   0.80000   0.70588        15\n",
            "          64    0.93490   0.92652   0.93069       558\n",
            "          65    0.89928   0.90580   0.90253       138\n",
            "          66    0.93590   0.92405   0.92994        79\n",
            "          67    0.95652   0.91667   0.93617        48\n",
            "          68    0.81818   0.85714   0.83721        63\n",
            "          69    0.92000   0.90789   0.91391        76\n",
            "          70    0.90698   0.82105   0.86188        95\n",
            "          71    0.88699   0.88095   0.88396       294\n",
            "          72    0.90317   0.94087   0.92164       575\n",
            "          73    0.61111   0.84615   0.70968        13\n",
            "          74    0.92857   0.93464   0.93160       153\n",
            "          75    0.89189   0.88393   0.88789       112\n",
            "          76    0.96277   0.93782   0.95013       193\n",
            "          77    0.94845   0.95833   0.95337        96\n",
            "          78    0.85185   0.79310   0.82143        29\n",
            "          79    0.90964   0.87536   0.89217       345\n",
            "          80    0.88095   0.80435   0.84091        46\n",
            "          81    0.84153   0.89535   0.86761       344\n",
            "          82    0.87097   0.90000   0.88525        30\n",
            "          83    0.76582   0.85211   0.80667       142\n",
            "          84    0.51852   0.60870   0.56000        46\n",
            "          85    0.76978   0.78676   0.77818       136\n",
            "          86    0.88947   0.80861   0.84712       209\n",
            "          87    1.00000   0.88235   0.93750        17\n",
            "          88    0.90278   0.85526   0.87838        76\n",
            "          89    0.88333   0.92174   0.90213       230\n",
            "          90    0.98214   0.88710   0.93220        62\n",
            "          91    0.90506   0.92258   0.91374       155\n",
            "          92    0.86325   0.90991   0.88596       111\n",
            "          93    0.81250   0.82540   0.81890        63\n",
            "          94    0.89773   0.80612   0.84946        98\n",
            "          95    0.84848   0.77778   0.81159        72\n",
            "          96    0.92211   0.89024   0.90589       492\n",
            "          97    0.95652   0.91667   0.93617        48\n",
            "          98    0.85507   0.92188   0.88722        64\n",
            "          99    0.80488   0.73333   0.76744        45\n",
            "         100    0.92105   0.79545   0.85366        44\n",
            "         101    0.90826   0.90826   0.90826       109\n",
            "         102    0.83333   0.71429   0.76923        14\n",
            "         103    0.93314   0.92775   0.93043       346\n",
            "         104    0.93333   0.87500   0.90323        16\n",
            "         105    0.87500   0.93333   0.90323        15\n",
            "         106    0.93056   0.90541   0.91781        74\n",
            "         107    0.88455   0.93084   0.90710       535\n",
            "         108    0.92308   0.75000   0.82759        16\n",
            "         109    0.89247   0.91209   0.90217        91\n",
            "         110    0.91176   0.88571   0.89855        35\n",
            "         111    0.90789   0.87342   0.89032        79\n",
            "         112    0.95349   0.91111   0.93182        90\n",
            "         113    0.90719   0.89269   0.89988       438\n",
            "         114    0.92308   0.80000   0.85714        15\n",
            "         115    0.88177   0.89055   0.88614       402\n",
            "         116    0.78723   0.84091   0.81319        44\n",
            "         117    0.88321   0.79085   0.83448       153\n",
            "         118    0.91525   0.93913   0.92704       115\n",
            "         119    0.91558   0.91558   0.91558       154\n",
            "         120    0.70000   0.75207   0.72510       121\n",
            "         121    0.85714   0.78261   0.81818        46\n",
            "         122    0.81928   0.88312   0.85000       231\n",
            "         123    0.94146   0.93237   0.93689       207\n",
            "         124    0.96330   0.95890   0.96110       219\n",
            "         125    0.92857   0.95122   0.93976        82\n",
            "         126    0.83333   0.93750   0.88235        16\n",
            "         127    0.97619   0.88172   0.92655        93\n",
            "         128    0.92222   0.86458   0.89247        96\n",
            "         129    0.88889   0.80808   0.84656        99\n",
            "         130    0.92857   0.92857   0.92857        14\n",
            "         131    0.93023   0.90909   0.91954        44\n",
            "         132    0.92308   0.91429   0.91866       105\n",
            "         133    0.89070   0.88046   0.88555       435\n",
            "         134    0.93443   0.91935   0.92683        62\n",
            "         135    0.85965   0.76562   0.80992        64\n",
            "         136    0.89189   0.94286   0.91667       105\n",
            "         137    0.75862   0.78571   0.77193        56\n",
            "         138    0.82243   0.94624   0.88000        93\n",
            "         139    0.92105   0.91304   0.91703       230\n",
            "         140    0.73034   0.73864   0.73446        88\n",
            "         141    0.85632   0.86127   0.85879       173\n",
            "         142    0.86364   0.89623   0.87963       106\n",
            "         143    0.92188   0.96721   0.94400        61\n",
            "         144    0.70690   0.67213   0.68908        61\n",
            "         145    0.65000   0.81250   0.72222        32\n",
            "         146    0.88462   0.74194   0.80702        31\n",
            "         147    0.85814   0.83484   0.84633       442\n",
            "         148    0.78947   0.78035   0.78488       173\n",
            "         149    0.92531   0.91770   0.92149       243\n",
            "         150    0.87069   0.87826   0.87446       230\n",
            "         151    0.92683   0.91200   0.91935       125\n",
            "         152    0.75410   0.76667   0.76033        60\n",
            "         153    0.79641   0.85806   0.82609       155\n",
            "         154    0.87500   0.75676   0.81159        74\n",
            "         155    0.85149   0.93478   0.89119        92\n",
            "         156    0.76829   0.79747   0.78261        79\n",
            "         157    0.77143   0.84375   0.80597        32\n",
            "         158    0.92308   0.85714   0.88889        14\n",
            "         159    0.92308   0.91185   0.91743       329\n",
            "         160    0.90385   0.97917   0.94000        48\n",
            "         161    0.96296   0.83871   0.89655        31\n",
            "         162    0.70732   0.61702   0.65909        47\n",
            "         163    0.93750   0.93750   0.93750        16\n",
            "         164    0.94118   1.00000   0.96970        16\n",
            "         165    0.96262   0.90351   0.93213       114\n",
            "         166    1.00000   0.93333   0.96552        30\n",
            "         167    0.95395   0.91772   0.93548       158\n",
            "\n",
            "    accuracy                        0.88000     20084\n",
            "   macro avg    0.86620   0.86246   0.86255     20084\n",
            "weighted avg    0.88131   0.88000   0.87991     20084\n",
            "\n"
          ]
        }
      ],
      "source": [
        "print(classification_report(y_true_grapheme_root, y_pred_grapheme_root, digits=5))"
      ]
    },
    {
      "cell_type": "code",
      "execution_count": null,
      "id": "2670cb28",
      "metadata": {
        "id": "2670cb28",
        "outputId": "2eade877-b777-42bb-9c9c-5c1feae75421"
      },
      "outputs": [
        {
          "name": "stdout",
          "output_type": "stream",
          "text": [
            "              precision    recall  f1-score   support\n",
            "\n",
            "           0    0.93865   0.96449   0.95139      4140\n",
            "           1    0.97032   0.96558   0.96794      3690\n",
            "           2    0.99272   0.99884   0.99577      2595\n",
            "           3    0.98320   0.97651   0.97984      1618\n",
            "           4    0.96490   0.94600   0.95536      1889\n",
            "           5    0.96701   0.88158   0.92232       532\n",
            "           6    0.94601   0.93072   0.93830       433\n",
            "           7    0.96579   0.97353   0.96964      2871\n",
            "           8    0.96933   0.89266   0.92941       354\n",
            "           9    0.94828   0.95890   0.95356      1606\n",
            "          10    0.98198   0.91854   0.94920       356\n",
            "\n",
            "    accuracy                        0.96420     20084\n",
            "   macro avg    0.96620   0.94612   0.95571     20084\n",
            "weighted avg    0.96438   0.96420   0.96414     20084\n",
            "\n"
          ]
        }
      ],
      "source": [
        "print(classification_report(y_true_vowel_diacritic, y_pred_vowel_diacritic, digits=5))"
      ]
    },
    {
      "cell_type": "code",
      "execution_count": null,
      "id": "97fc2d89",
      "metadata": {
        "id": "97fc2d89",
        "outputId": "5db73fd3-7e41-44d4-bdbb-472379dd2773"
      },
      "outputs": [
        {
          "name": "stdout",
          "output_type": "stream",
          "text": [
            "              precision    recall  f1-score   support\n",
            "\n",
            "           0    0.96239   0.98588   0.97399     12536\n",
            "           1    0.98331   0.95155   0.96717       743\n",
            "           2    0.95478   0.92869   0.94156      2342\n",
            "           3    0.96429   0.88525   0.92308        61\n",
            "           4    0.97012   0.94774   0.95880      2124\n",
            "           5    0.96593   0.90178   0.93275      2138\n",
            "           6    0.97458   0.82143   0.89147       140\n",
            "\n",
            "    accuracy                        0.96350     20084\n",
            "   macro avg    0.96791   0.91747   0.94126     20084\n",
            "weighted avg    0.96356   0.96350   0.96323     20084\n",
            "\n"
          ]
        }
      ],
      "source": [
        "print(classification_report(y_true_consonant_diacritic, y_pred_consonant_diacritic, digits=5))"
      ]
    },
    {
      "cell_type": "code",
      "execution_count": null,
      "id": "27ad9111",
      "metadata": {
        "id": "27ad9111",
        "outputId": "08d54f56-a7fa-4532-d91c-550a0e3a71cb"
      },
      "outputs": [
        {
          "data": {
            "text/plain": [
              "<Axes: >"
            ]
          },
          "execution_count": 17,
          "metadata": {},
          "output_type": "execute_result"
        },
        {
          "data": {
            "image/png": "[encoded data removed]",
            "text/plain": [
              "<Figure size 1000x700 with 2 Axes>"
            ]
          },
          "metadata": {},
          "output_type": "display_data"
        }
      ],
      "source": [
        "plt.figure(figsize = (10,7))\n",
        "sn.heatmap(confusion_matrix(y_true_consonant_diacritic, y_pred_consonant_diacritic), annot=True)"
      ]
    },
    {
      "cell_type": "code",
      "execution_count": null,
      "id": "ce2d45a0",
      "metadata": {
        "id": "ce2d45a0",
        "outputId": "5ef22213-2244-440b-f71f-8add2d4830f6"
      },
      "outputs": [
        {
          "data": {
            "text/plain": [
              "<Axes: >"
            ]
          },
          "execution_count": 18,
          "metadata": {},
          "output_type": "execute_result"
        },
        {
          "data": {
            "image/png": "[encoded data removed]",
            "text/plain": [
              "<Figure size 1000x700 with 2 Axes>"
            ]
          },
          "metadata": {},
          "output_type": "display_data"
        }
      ],
      "source": [
        "plt.figure(figsize = (10,7))\n",
        "sn.heatmap(confusion_matrix(y_true_vowel_diacritic, y_pred_vowel_diacritic), annot=True)"
      ]
    },
    {
      "cell_type": "code",
      "execution_count": null,
      "id": "df159474",
      "metadata": {
        "id": "df159474"
      },
      "outputs": [],
      "source": [
        "new_csv = pd.read_csv('new.csv')\n",
        "X_test_new = new_csv['image_id']\n",
        "y_new = df.drop(['image_id'], axis=1)"
      ]
    },
    {
      "cell_type": "code",
      "execution_count": null,
      "id": "78b53bc7",
      "metadata": {
        "scrolled": true,
        "id": "78b53bc7",
        "outputId": "638fbd79-015e-408b-f73a-bfb3c9b74cae"
      },
      "outputs": [
        {
          "data": {
            "image/png": "[encoded data removed]",
            "text/plain": [
              "<Figure size 100x100 with 1 Axes>"
            ]
          },
          "metadata": {},
          "output_type": "display_data"
        },
        {
          "name": "stdout",
          "output_type": "stream",
          "text": [
            "Grapheme :  ল্টু\n"
          ]
        },
        {
          "data": {
            "image/png": "[encoded data removed]",
            "text/plain": [
              "<Figure size 100x100 with 1 Axes>"
            ]
          },
          "metadata": {},
          "output_type": "display_data"
        },
        {
          "name": "stdout",
          "output_type": "stream",
          "text": [
            "Grapheme :  ন্ড\n"
          ]
        },
        {
          "data": {
            "image/png": "[encoded data removed]",
            "text/plain": [
              "<Figure size 100x100 with 1 Axes>"
            ]
          },
          "metadata": {},
          "output_type": "display_data"
        },
        {
          "name": "stdout",
          "output_type": "stream",
          "text": [
            "Grapheme :  চাঁ\n"
          ]
        },
        {
          "data": {
            "image/png": "[encoded data removed]",
            "text/plain": [
              "<Figure size 100x100 with 1 Axes>"
            ]
          },
          "metadata": {},
          "output_type": "display_data"
        },
        {
          "name": "stdout",
          "output_type": "stream",
          "text": [
            "Grapheme :  ঙ্ক\n"
          ]
        },
        {
          "data": {
            "image/png": "[encoded data removed]",
            "text/plain": [
              "<Figure size 100x100 with 1 Axes>"
            ]
          },
          "metadata": {},
          "output_type": "display_data"
        },
        {
          "name": "stdout",
          "output_type": "stream",
          "text": [
            "Grapheme :  ম্ব\n"
          ]
        },
        {
          "data": {
            "image/png": "[encoded data removed]",
            "text/plain": [
              "<Figure size 100x100 with 1 Axes>"
            ]
          },
          "metadata": {},
          "output_type": "display_data"
        },
        {
          "name": "stdout",
          "output_type": "stream",
          "text": [
            "Grapheme :  ক্ষ\n"
          ]
        },
        {
          "data": {
            "image/png": "[encoded data removed]",
            "text/plain": [
              "<Figure size 100x100 with 1 Axes>"
            ]
          },
          "metadata": {},
          "output_type": "display_data"
        },
        {
          "name": "stdout",
          "output_type": "stream",
          "text": [
            "Grapheme :  ঞ্জি\n"
          ]
        },
        {
          "data": {
            "image/png": "[encoded data removed]",
            "text/plain": [
              "<Figure size 100x100 with 1 Axes>"
            ]
          },
          "metadata": {},
          "output_type": "display_data"
        },
        {
          "name": "stdout",
          "output_type": "stream",
          "text": [
            "Grapheme :  ষী\n"
          ]
        },
        {
          "data": {
            "image/png": "[encoded data removed]",
            "text/plain": [
              "<Figure size 100x100 with 1 Axes>"
            ]
          },
          "metadata": {},
          "output_type": "display_data"
        },
        {
          "name": "stdout",
          "output_type": "stream",
          "text": [
            "Grapheme :  ত্থ\n"
          ]
        },
        {
          "data": {
            "image/png": "[encoded data removed]",
            "text/plain": [
              "<Figure size 100x100 with 1 Axes>"
            ]
          },
          "metadata": {},
          "output_type": "display_data"
        },
        {
          "name": "stdout",
          "output_type": "stream",
          "text": [
            "Grapheme :  তেঁ\n"
          ]
        },
        {
          "data": {
            "image/png": "[encoded data removed]",
            "text/plain": [
              "<Figure size 100x100 with 1 Axes>"
            ]
          },
          "metadata": {},
          "output_type": "display_data"
        },
        {
          "name": "stdout",
          "output_type": "stream",
          "text": [
            "Grapheme :  র্মা\n"
          ]
        }
      ],
      "source": [
        "y_true_grapheme_root_new = []\n",
        "y_true_vowel_diacritic_new = []\n",
        "y_true_consonant_diacritic_new = []\n",
        "\n",
        "y_pred_grapheme_root_new = []\n",
        "y_pred_vowel_diacritic_new = []\n",
        "y_pred_consonant_diacritic_new = []\n",
        "\n",
        "for i, f in enumerate(X_test_new):\n",
        "    img = tf.keras.utils.load_img('./new/'+f+'.jpg', color_mode='grayscale',target_size=(200, 200))\n",
        "    img = tf.keras.utils.img_to_array(img)/255.\n",
        "    img = np.expand_dims(img, axis=0)\n",
        "    pr = model.predict(img, verbose=0)\n",
        "\n",
        "    pred_grapheme_root = np.argmax(pr[0], axis=-1)[0]\n",
        "    pred_vowel_diacritic = np.argmax(pr[1], axis=-1)[0]\n",
        "    pred_consonant_diacritic = np.argmax(pr[2], axis=-1)[0]\n",
        "\n",
        "\n",
        "    true_grapheme_root = y_new['grapheme_root'].iloc[i]\n",
        "    true_vowel_diacritic = y_new['vowel_diacritic'].iloc[i]\n",
        "    true_consonant_diacritic = y_new['consonant_diacritic'].iloc[i]\n",
        "\n",
        "\n",
        "    y_pred_grapheme_root_new.append(pred_grapheme_root)\n",
        "    y_pred_vowel_diacritic_new.append(pred_vowel_diacritic)\n",
        "    y_pred_consonant_diacritic_new.append(np.argmax(pr[2], axis=-1)[0])\n",
        "\n",
        "    y_true_grapheme_root_new.append(y_new['grapheme_root'].iloc[i])\n",
        "    y_true_vowel_diacritic_new.append(y_new['vowel_diacritic'].iloc[i])\n",
        "    y_true_consonant_diacritic_new.append(y_new['consonant_diacritic'].iloc[i])\n",
        "\n",
        "    plt.imshow(img[0, ::])\n",
        "    plt.show()\n",
        "\n",
        "    print(\"Grapheme : \", get_grapheme(pred_grapheme_root, pred_vowel_diacritic, pred_consonant_diacritic))"
      ]
    },
    {
      "cell_type": "code",
      "execution_count": null,
      "id": "5e30043e",
      "metadata": {
        "id": "5e30043e",
        "outputId": "f89a52af-fe86-4951-be29-baf67a44b714"
      },
      "outputs": [
        {
          "name": "stdout",
          "output_type": "stream",
          "text": [
            "              precision    recall  f1-score   support\n",
            "\n",
            "          15    1.00000   1.00000   1.00000         1\n",
            "          22    1.00000   1.00000   1.00000         1\n",
            "          52    1.00000   1.00000   1.00000         1\n",
            "          53    1.00000   1.00000   1.00000         1\n",
            "          64    1.00000   1.00000   1.00000         1\n",
            "          67    1.00000   1.00000   1.00000         1\n",
            "          71    1.00000   1.00000   1.00000         1\n",
            "         115    1.00000   1.00000   1.00000         1\n",
            "         139    1.00000   1.00000   1.00000         1\n",
            "         153    1.00000   1.00000   1.00000         1\n",
            "         159    1.00000   1.00000   1.00000         1\n",
            "\n",
            "    accuracy                        1.00000        11\n",
            "   macro avg    1.00000   1.00000   1.00000        11\n",
            "weighted avg    1.00000   1.00000   1.00000        11\n",
            "\n"
          ]
        }
      ],
      "source": [
        "print(classification_report(y_true_grapheme_root_new, y_pred_grapheme_root_new, digits=5))"
      ]
    },
    {
      "cell_type": "code",
      "execution_count": null,
      "id": "6de564dd",
      "metadata": {
        "id": "6de564dd",
        "outputId": "a0fac4ba-8f79-4899-d6b9-15bac484dd2b"
      },
      "outputs": [
        {
          "name": "stdout",
          "output_type": "stream",
          "text": [
            "              precision    recall  f1-score   support\n",
            "\n",
            "           0    1.00000   1.00000   1.00000         2\n",
            "           1    1.00000   1.00000   1.00000         1\n",
            "           2    1.00000   1.00000   1.00000         2\n",
            "           3    1.00000   1.00000   1.00000         2\n",
            "           7    1.00000   1.00000   1.00000         1\n",
            "           9    1.00000   1.00000   1.00000         3\n",
            "\n",
            "    accuracy                        1.00000        11\n",
            "   macro avg    1.00000   1.00000   1.00000        11\n",
            "weighted avg    1.00000   1.00000   1.00000        11\n",
            "\n"
          ]
        }
      ],
      "source": [
        "print(classification_report(y_true_vowel_diacritic_new, y_pred_vowel_diacritic_new, digits=5))"
      ]
    },
    {
      "cell_type": "code",
      "execution_count": null,
      "id": "06f4a081",
      "metadata": {
        "id": "06f4a081",
        "outputId": "15d3129f-221c-4462-d589-2501c29d85a6"
      },
      "outputs": [
        {
          "name": "stdout",
          "output_type": "stream",
          "text": [
            "              precision    recall  f1-score   support\n",
            "\n",
            "           0    1.00000   1.00000   1.00000         5\n",
            "           1    1.00000   1.00000   1.00000         1\n",
            "           2    1.00000   1.00000   1.00000         2\n",
            "           5    1.00000   1.00000   1.00000         3\n",
            "\n",
            "    accuracy                        1.00000        11\n",
            "   macro avg    1.00000   1.00000   1.00000        11\n",
            "weighted avg    1.00000   1.00000   1.00000        11\n",
            "\n"
          ]
        }
      ],
      "source": [
        "print(classification_report(y_true_consonant_diacritic_new, y_pred_consonant_diacritic_new, digits=5))"
      ]
    },
    {
      "cell_type": "code",
      "execution_count": null,
      "id": "9d01db8e",
      "metadata": {
        "id": "9d01db8e",
        "outputId": "def41fc8-19db-4076-8786-bd8bcc3410ff"
      },
      "outputs": [
        {
          "data": {
            "text/plain": [
              "<Axes: >"
            ]
          },
          "execution_count": 69,
          "metadata": {},
          "output_type": "execute_result"
        },
        {
          "data": {
            "image/png": "[encoded data removed]",
            "text/plain": [
              "<Figure size 1000x700 with 2 Axes>"
            ]
          },
          "metadata": {},
          "output_type": "display_data"
        }
      ],
      "source": [
        "plt.figure(figsize = (10,7))\n",
        "sn.heatmap(confusion_matrix(y_true_grapheme_root_new, y_pred_grapheme_root_new), annot=True)"
      ]
    },
    {
      "cell_type": "code",
      "execution_count": null,
      "id": "6ac1d1c5",
      "metadata": {
        "id": "6ac1d1c5",
        "outputId": "ead7a133-db25-4b03-d885-7b44483254c9"
      },
      "outputs": [
        {
          "data": {
            "text/plain": [
              "<Axes: >"
            ]
          },
          "execution_count": 71,
          "metadata": {},
          "output_type": "execute_result"
        },
        {
          "data": {
            "image/png": "[encoded data removed]",
            "text/plain": [
              "<Figure size 1000x700 with 2 Axes>"
            ]
          },
          "metadata": {},
          "output_type": "display_data"
        }
      ],
      "source": [
        "plt.figure(figsize = (10,7))\n",
        "sn.heatmap(confusion_matrix(y_true_vowel_diacritic_new, y_pred_vowel_diacritic_new), annot=True)"
      ]
    },
    {
      "cell_type": "code",
      "execution_count": null,
      "id": "0f94cba7",
      "metadata": {
        "id": "0f94cba7",
        "outputId": "988b43df-91e4-477e-801f-7667c31a28e3"
      },
      "outputs": [
        {
          "data": {
            "text/plain": [
              "<Axes: >"
            ]
          },
          "execution_count": 70,
          "metadata": {},
          "output_type": "execute_result"
        },
        {
          "data": {
            "image/png": "[encoded data removed]",
            "text/plain": [
              "<Figure size 1000x700 with 2 Axes>"
            ]
          },
          "metadata": {},
          "output_type": "display_data"
        }
      ],
      "source": [
        "plt.figure(figsize = (10,7))\n",
        "sn.heatmap(confusion_matrix(y_true_consonant_diacritic_new, y_pred_consonant_diacritic_new), annot=True)"
      ]
    },
    {
      "cell_type": "code",
      "execution_count": null,
      "id": "111ec41e",
      "metadata": {
        "id": "111ec41e",
        "outputId": "1c14e104-8e89-421b-ef87-cd21d67eae52"
      },
      "outputs": [
        {
          "name": "stdout",
          "output_type": "stream",
          "text": [
            "Accuracy score grapheme_root 1.0\n"
          ]
        }
      ],
      "source": [
        "print(\"Accuracy score grapheme_root\", accuracy_score(y_true_grapheme_root, y_pred_grapheme_root))"
      ]
    },
    {
      "cell_type": "code",
      "execution_count": null,
      "id": "3160dbb3",
      "metadata": {
        "id": "3160dbb3",
        "outputId": "2197c86b-39fa-491e-defe-24edf54a763e"
      },
      "outputs": [
        {
          "name": "stdout",
          "output_type": "stream",
          "text": [
            "Accuracy score vowel_diacritic 1.0\n"
          ]
        }
      ],
      "source": [
        "print(\"Accuracy score vowel_diacritic\", accuracy_score(y_true_vowel_diacritic, y_pred_vowel_diacritic))"
      ]
    },
    {
      "cell_type": "code",
      "execution_count": null,
      "id": "871af7a4",
      "metadata": {
        "id": "871af7a4",
        "outputId": "c35df69f-ffda-477b-f2d9-ccc4c79a5b49"
      },
      "outputs": [
        {
          "name": "stdout",
          "output_type": "stream",
          "text": [
            "Accuracy score consonant_diacritic 0.0\n"
          ]
        }
      ],
      "source": [
        "print(\"Accuracy score consonant_diacritic\", accuracy_score(y_true_consonant_diacritic, y_pred_consonant_diacritic))"
      ]
    },
    {
      "cell_type": "code",
      "execution_count": null,
      "id": "8ce411ee",
      "metadata": {
        "id": "8ce411ee",
        "outputId": "cac72914-0f32-4c21-8161-89d6dde17826"
      },
      "outputs": [
        {
          "data": {
            "text/plain": [
              "{'loss': [4.820860862731934,\n",
              "  1.9032635688781738,\n",
              "  1.3012878894805908,\n",
              "  1.0314534902572632,\n",
              "  0.8579843640327454,\n",
              "  0.743175208568573,\n",
              "  0.649434506893158,\n",
              "  0.5717743635177612,\n",
              "  0.5229386687278748,\n",
              "  0.4788096249103546,\n",
              "  0.3141796290874481,\n",
              "  0.2649952471256256,\n",
              "  0.24296844005584717,\n",
              "  0.22252079844474792,\n",
              "  0.20891742408275604,\n",
              "  0.1952057033777237,\n",
              "  0.18614129722118378,\n",
              "  0.17445285618305206,\n",
              "  0.16403591632843018,\n",
              "  0.1582411825656891,\n",
              "  0.15160228312015533,\n",
              "  0.1434279829263687,\n",
              "  0.13884709775447845,\n",
              "  0.13351061940193176,\n",
              "  0.12886777520179749,\n",
              "  0.12427183985710144,\n",
              "  0.1198338195681572,\n",
              "  0.11597900092601776,\n",
              "  0.11066026985645294,\n",
              "  0.1067177876830101],\n",
              " 'grapheme_root_loss': [3.447462558746338,\n",
              "  1.4294092655181885,\n",
              "  0.9601682424545288,\n",
              "  0.7626522183418274,\n",
              "  0.6386290192604065,\n",
              "  0.5566982626914978,\n",
              "  0.491282194852829,\n",
              "  0.43401598930358887,\n",
              "  0.4003700613975525,\n",
              "  0.36736589670181274,\n",
              "  0.2455451637506485,\n",
              "  0.21218283474445343,\n",
              "  0.19778954982757568,\n",
              "  0.18264111876487732,\n",
              "  0.17342884838581085,\n",
              "  0.1632853001356125,\n",
              "  0.1563539057970047,\n",
              "  0.14700041711330414,\n",
              "  0.13940472900867462,\n",
              "  0.13473248481750488,\n",
              "  0.12931810319423676,\n",
              "  0.1236463189125061,\n",
              "  0.11933884769678116,\n",
              "  0.11521860212087631,\n",
              "  0.11112889647483826,\n",
              "  0.10820960253477097,\n",
              "  0.104571133852005,\n",
              "  0.10156241059303284,\n",
              "  0.09640241414308548,\n",
              "  0.09296957403421402],\n",
              " 'vowel_diacritic_loss': [0.788188636302948,\n",
              "  0.2509758770465851,\n",
              "  0.17998221516609192,\n",
              "  0.1417483389377594,\n",
              "  0.11565239727497101,\n",
              "  0.1004929468035698,\n",
              "  0.08589207381010056,\n",
              "  0.0755930244922638,\n",
              "  0.06762286275625229,\n",
              "  0.06176328659057617,\n",
              "  0.038286611437797546,\n",
              "  0.029741128906607628,\n",
              "  0.025325940921902657,\n",
              "  0.02265336364507675,\n",
              "  0.02051987685263157,\n",
              "  0.018560510128736496,\n",
              "  0.017055384814739227,\n",
              "  0.016155749559402466,\n",
              "  0.014355766586959362,\n",
              "  0.013472392223775387,\n",
              "  0.012335559353232384,\n",
              "  0.011479133740067482,\n",
              "  0.011424670927226543,\n",
              "  0.010585560463368893,\n",
              "  0.010033003985881805,\n",
              "  0.009302857331931591,\n",
              "  0.00851956382393837,\n",
              "  0.008296760730445385,\n",
              "  0.008352749980986118,\n",
              "  0.007765395101159811],\n",
              " 'consonant_diacritic_loss': [0.585209310054779,\n",
              "  0.2228783369064331,\n",
              "  0.16113820672035217,\n",
              "  0.12705272436141968,\n",
              "  0.10370305925607681,\n",
              "  0.0859842523932457,\n",
              "  0.07225950807332993,\n",
              "  0.06216546520590782,\n",
              "  0.054945822805166245,\n",
              "  0.04968075454235077,\n",
              "  0.03034786880016327,\n",
              "  0.02307131700217724,\n",
              "  0.01985313929617405,\n",
              "  0.017226530238986015,\n",
              "  0.014968529343605042,\n",
              "  0.013360063545405865,\n",
              "  0.012731889262795448,\n",
              "  0.011296738870441914,\n",
              "  0.0102754021063447,\n",
              "  0.010036312974989414,\n",
              "  0.009948743507266045,\n",
              "  0.008302483707666397,\n",
              "  0.008083571679890156,\n",
              "  0.0077063944190740585,\n",
              "  0.007705861236900091,\n",
              "  0.00675949826836586,\n",
              "  0.006743020843714476,\n",
              "  0.00611972576007247,\n",
              "  0.005905164405703545,\n",
              "  0.005982802249491215],\n",
              " 'grapheme_root_accuracy': [0.19897308945655823,\n",
              "  0.5914130806922913,\n",
              "  0.7170810103416443,\n",
              "  0.7718444466590881,\n",
              "  0.8065145611763,\n",
              "  0.8293696045875549,\n",
              "  0.8481685519218445,\n",
              "  0.864288866519928,\n",
              "  0.8730169534683228,\n",
              "  0.8833577632904053,\n",
              "  0.9201874136924744,\n",
              "  0.930846631526947,\n",
              "  0.9346327185630798,\n",
              "  0.9404675960540771,\n",
              "  0.9425856471061707,\n",
              "  0.9457833766937256,\n",
              "  0.948005199432373,\n",
              "  0.9507945775985718,\n",
              "  0.9528295397758484,\n",
              "  0.9547675848007202,\n",
              "  0.9567955732345581,\n",
              "  0.9583598375320435,\n",
              "  0.9593150615692139,\n",
              "  0.9604986310005188,\n",
              "  0.9620075225830078,\n",
              "  0.9635925889015198,\n",
              "  0.9643124341964722,\n",
              "  0.9653645157814026,\n",
              "  0.9672194719314575,\n",
              "  0.9682161808013916],\n",
              " 'vowel_diacritic_accuracy': [0.7218846678733826,\n",
              "  0.9191907048225403,\n",
              "  0.9424471855163574,\n",
              "  0.9542761445045471,\n",
              "  0.9626304507255554,\n",
              "  0.9675655364990234,\n",
              "  0.9719468951225281,\n",
              "  0.9752000570297241,\n",
              "  0.9776087403297424,\n",
              "  0.9793044924736023,\n",
              "  0.9872643351554871,\n",
              "  0.9903721213340759,\n",
              "  0.9916733503341675,\n",
              "  0.9925731420516968,\n",
              "  0.9933483600616455,\n",
              "  0.9936598539352417,\n",
              "  0.9943519830703735,\n",
              "  0.9945803880691528,\n",
              "  0.9953694939613342,\n",
              "  0.9953417778015137,\n",
              "  0.9959370493888855,\n",
              "  0.9960200786590576,\n",
              "  0.9962277412414551,\n",
              "  0.9964907765388489,\n",
              "  0.9966153502464294,\n",
              "  0.9966568946838379,\n",
              "  0.9970929622650146,\n",
              "  0.9970237016677856,\n",
              "  0.9972729086875916,\n",
              "  0.9973905682563782],\n",
              " 'consonant_diacritic_accuracy': [0.8050127029418945,\n",
              "  0.9265137314796448,\n",
              "  0.9472576975822449,\n",
              "  0.9588097929954529,\n",
              "  0.9654406309127808,\n",
              "  0.9716284871101379,\n",
              "  0.9761967658996582,\n",
              "  0.9791730046272278,\n",
              "  0.9812148809432983,\n",
              "  0.9832152128219604,\n",
              "  0.9901021718978882,\n",
              "  0.9921232461929321,\n",
              "  0.9935629367828369,\n",
              "  0.9940751194953918,\n",
              "  0.9950926303863525,\n",
              "  0.9956809282302856,\n",
              "  0.9955978989601135,\n",
              "  0.9963038563728333,\n",
              "  0.9963869452476501,\n",
              "  0.9965530633926392,\n",
              "  0.9966222643852234,\n",
              "  0.9971344470977783,\n",
              "  0.9972659945487976,\n",
              "  0.9973490238189697,\n",
              "  0.9973767399787903,\n",
              "  0.9977781772613525,\n",
              "  0.997819721698761,\n",
              "  0.9978958368301392,\n",
              "  0.9980550408363342,\n",
              "  0.9979581236839294],\n",
              " 'val_loss': [1.9980474710464478,\n",
              "  1.233725666999817,\n",
              "  1.0069295167922974,\n",
              "  0.9140990972518921,\n",
              "  0.8633267879486084,\n",
              "  0.8886102437973022,\n",
              "  0.8769951462745667,\n",
              "  0.8450607061386108,\n",
              "  0.8542129397392273,\n",
              "  0.8645763993263245,\n",
              "  0.8346455693244934,\n",
              "  0.853782057762146,\n",
              "  0.8675878047943115,\n",
              "  0.8757963180541992,\n",
              "  0.8960820436477661,\n",
              "  0.9195020794868469,\n",
              "  0.9381611347198486,\n",
              "  0.9475435018539429,\n",
              "  0.9733009934425354,\n",
              "  0.9803579449653625,\n",
              "  1.0075995922088623,\n",
              "  1.0126266479492188,\n",
              "  1.0400245189666748,\n",
              "  1.0494763851165771,\n",
              "  1.0617259740829468,\n",
              "  1.0814096927642822,\n",
              "  1.108144998550415,\n",
              "  1.0976746082305908,\n",
              "  1.1267472505569458,\n",
              "  1.167233943939209],\n",
              " 'val_grapheme_root_loss': [1.5019891262054443,\n",
              "  0.8733634948730469,\n",
              "  0.6920077800750732,\n",
              "  0.6098202466964722,\n",
              "  0.5632325410842896,\n",
              "  0.5642057657241821,\n",
              "  0.566119909286499,\n",
              "  0.5266981720924377,\n",
              "  0.5385360717773438,\n",
              "  0.555719256401062,\n",
              "  0.499545693397522,\n",
              "  0.5025393962860107,\n",
              "  0.5040937662124634,\n",
              "  0.5040693879127502,\n",
              "  0.5091197490692139,\n",
              "  0.5179708003997803,\n",
              "  0.5261480808258057,\n",
              "  0.5276763439178467,\n",
              "  0.5402367115020752,\n",
              "  0.540742814540863,\n",
              "  0.5429671406745911,\n",
              "  0.5522304177284241,\n",
              "  0.5577067732810974,\n",
              "  0.5598713755607605,\n",
              "  0.5753318071365356,\n",
              "  0.5765233635902405,\n",
              "  0.5872226357460022,\n",
              "  0.5809151530265808,\n",
              "  0.5979133248329163,\n",
              "  0.6069413423538208],\n",
              " 'val_vowel_diacritic_loss': [0.24909599125385284,\n",
              "  0.17714788019657135,\n",
              "  0.15800519287586212,\n",
              "  0.14997801184654236,\n",
              "  0.15660741925239563,\n",
              "  0.16036242246627808,\n",
              "  0.15774478018283844,\n",
              "  0.1602110117673874,\n",
              "  0.15997467935085297,\n",
              "  0.15109267830848694,\n",
              "  0.1612635850906372,\n",
              "  0.16452260315418243,\n",
              "  0.1726248562335968,\n",
              "  0.1767795979976654,\n",
              "  0.18366071581840515,\n",
              "  0.18634538352489471,\n",
              "  0.19313600659370422,\n",
              "  0.1947765052318573,\n",
              "  0.19908985495567322,\n",
              "  0.2079511135816574,\n",
              "  0.21271979808807373,\n",
              "  0.21386665105819702,\n",
              "  0.22866074740886688,\n",
              "  0.22768177092075348,\n",
              "  0.22591909766197205,\n",
              "  0.2331116646528244,\n",
              "  0.2444547861814499,\n",
              "  0.2449343055486679,\n",
              "  0.2448367178440094,\n",
              "  0.2560606598854065],\n",
              " 'val_consonant_diacritic_loss': [0.24696187674999237,\n",
              "  0.18321377038955688,\n",
              "  0.15691660344600677,\n",
              "  0.15430109202861786,\n",
              "  0.14348702132701874,\n",
              "  0.16404207050800323,\n",
              "  0.1531304568052292,\n",
              "  0.1581515371799469,\n",
              "  0.15570169687271118,\n",
              "  0.15776485204696655,\n",
              "  0.17383642494678497,\n",
              "  0.18672020733356476,\n",
              "  0.1908690333366394,\n",
              "  0.19494706392288208,\n",
              "  0.20330150425434113,\n",
              "  0.2151859849691391,\n",
              "  0.2188771367073059,\n",
              "  0.22509066760540009,\n",
              "  0.23397445678710938,\n",
              "  0.23166421055793762,\n",
              "  0.2519126534461975,\n",
              "  0.24653001129627228,\n",
              "  0.25365614891052246,\n",
              "  0.26192325353622437,\n",
              "  0.2604750394821167,\n",
              "  0.2717747688293457,\n",
              "  0.2764676809310913,\n",
              "  0.2718251943588257,\n",
              "  0.28399747610092163,\n",
              "  0.3042319715023041],\n",
              " 'val_grapheme_root_accuracy': [0.577847957611084,\n",
              "  0.7494736313819885,\n",
              "  0.796459436416626,\n",
              "  0.8233322501182556,\n",
              "  0.8383477330207825,\n",
              "  0.8393727540969849,\n",
              "  0.8404532074928284,\n",
              "  0.8524767160415649,\n",
              "  0.8504820466041565,\n",
              "  0.8493461608886719,\n",
              "  0.872700572013855,\n",
              "  0.8747783899307251,\n",
              "  0.8763020634651184,\n",
              "  0.8771331906318665,\n",
              "  0.8767730593681335,\n",
              "  0.8769115805625916,\n",
              "  0.877936601638794,\n",
              "  0.877936601638794,\n",
              "  0.8777703642845154,\n",
              "  0.877576470375061,\n",
              "  0.8791278600692749,\n",
              "  0.8784075975418091,\n",
              "  0.8786569237709045,\n",
              "  0.8786846399307251,\n",
              "  0.8786569237709045,\n",
              "  0.8777980804443359,\n",
              "  0.8778812289237976,\n",
              "  0.87821364402771,\n",
              "  0.8763020634651184,\n",
              "  0.8776318430900574],\n",
              " 'val_vowel_diacritic_accuracy': [0.9169437289237976,\n",
              "  0.9428191781044006,\n",
              "  0.9514904618263245,\n",
              "  0.955147385597229,\n",
              "  0.9550642967224121,\n",
              "  0.9575299024581909,\n",
              "  0.958000898361206,\n",
              "  0.9581394195556641,\n",
              "  0.9580562710762024,\n",
              "  0.9618794322013855,\n",
              "  0.9655917286872864,\n",
              "  0.965674877166748,\n",
              "  0.9659519195556641,\n",
              "  0.9662566781044006,\n",
              "  0.9653147459030151,\n",
              "  0.9659242033958435,\n",
              "  0.966312050819397,\n",
              "  0.9665613770484924,\n",
              "  0.9663674831390381,\n",
              "  0.9657302498817444,\n",
              "  0.96553635597229,\n",
              "  0.9667553305625916,\n",
              "  0.9654255509376526,\n",
              "  0.9660072922706604,\n",
              "  0.966312050819397,\n",
              "  0.9658687710762024,\n",
              "  0.9662843346595764,\n",
              "  0.966035008430481,\n",
              "  0.9662289619445801,\n",
              "  0.9656194448471069],\n",
              " 'val_consonant_diacritic_accuracy': [0.916084885597229,\n",
              "  0.938829779624939,\n",
              "  0.9510195255279541,\n",
              "  0.9533189535140991,\n",
              "  0.9570035338401794,\n",
              "  0.9566987752914429,\n",
              "  0.9597739577293396,\n",
              "  0.9586657881736755,\n",
              "  0.9600510001182556,\n",
              "  0.9604111313819885,\n",
              "  0.9626551270484924,\n",
              "  0.9623227119445801,\n",
              "  0.9623780846595764,\n",
              "  0.9627659320831299,\n",
              "  0.962682843208313,\n",
              "  0.962544322013855,\n",
              "  0.9630706906318665,\n",
              "  0.9625166058540344,\n",
              "  0.9631261229515076,\n",
              "  0.9634308218955994,\n",
              "  0.9616578221321106,\n",
              "  0.9624335169792175,\n",
              "  0.9626551270484924,\n",
              "  0.9625166058540344,\n",
              "  0.9625720381736755,\n",
              "  0.9629044532775879,\n",
              "  0.962405800819397,\n",
              "  0.9630429744720459,\n",
              "  0.9628767967224121,\n",
              "  0.9618517160415649],\n",
              " 'lr': [0.001,\n",
              "  0.001,\n",
              "  0.001,\n",
              "  0.001,\n",
              "  0.001,\n",
              "  0.001,\n",
              "  0.001,\n",
              "  0.001,\n",
              "  0.001,\n",
              "  0.001,\n",
              "  1e-04,\n",
              "  1e-04,\n",
              "  1e-04,\n",
              "  1e-04,\n",
              "  1e-04,\n",
              "  1e-04,\n",
              "  1e-04,\n",
              "  1e-04,\n",
              "  1e-04,\n",
              "  1e-04,\n",
              "  1e-04,\n",
              "  1e-04,\n",
              "  1e-04,\n",
              "  1e-04,\n",
              "  1e-04,\n",
              "  1e-04,\n",
              "  1e-04,\n",
              "  1e-04,\n",
              "  1e-04,\n",
              "  1e-04]}"
            ]
          },
          "execution_count": 26,
          "metadata": {},
          "output_type": "execute_result"
        }
      ],
      "source": [
        "history.history"
      ]
    },
    {
      "cell_type": "code",
      "execution_count": null,
      "id": "dd0b18bf",
      "metadata": {
        "id": "dd0b18bf",
        "outputId": "33c474f2-9ae8-447c-8c91-3bcd6c5f0d79"
      },
      "outputs": [
        {
          "name": "stdout",
          "output_type": "stream",
          "text": [
            "গ\n"
          ]
        }
      ],
      "source": [
        "print(get_grapheme(23,0, 0))"
      ]
    },
    {
      "cell_type": "code",
      "execution_count": null,
      "id": "1c3d113b",
      "metadata": {
        "id": "1c3d113b"
      },
      "outputs": [],
      "source": []
    }
  ],
  "metadata": {
    "kernelspec": {
      "display_name": "Python 3 (ipykernel)",
      "language": "python",
      "name": "python3"
    },
    "language_info": {
      "codemirror_mode": {
        "name": "ipython",
        "version": 3
      },
      "file_extension": ".py",
      "mimetype": "text/x-python",
      "name": "python",
      "nbconvert_exporter": "python",
      "pygments_lexer": "ipython3",
      "version": "3.10.9"
    },
    "colab": {
      "provenance": []
    }
  },
  "nbformat": 4,
  "nbformat_minor": 5
}